{
 "cells": [
  {
   "cell_type": "markdown",
   "id": "aba17acf",
   "metadata": {},
   "source": [
    "# Imports Required"
   ]
  },
  {
   "cell_type": "code",
   "execution_count": 59,
   "id": "1a1f28d0",
   "metadata": {},
   "outputs": [],
   "source": [
    "#initial imports\n",
    "import pandas as pd\n",
    "import numpy as np\n",
    "import matplotlib.pyplot as plt\n",
    "%matplotlib inline\n",
    "from sklearn.model_selection import train_test_split\n",
    "import seaborn as sns\n",
    "\n",
    "# Train/test preparation\n",
    "from sklearn.model_selection import train_test_split\n",
    "from sklearn.ensemble import RandomForestClassifier\n",
    "from sklearn.metrics import f1_score\n",
    "\n",
    "# KNN\n",
    "from sklearn.neighbors import KNeighborsClassifier\n",
    "\n",
    "# Scaling\n",
    "from sklearn.preprocessing import MinMaxScaler\n",
    "\n",
    "# Metrics Performance\n",
    "from sklearn.metrics import classification_report\n",
    "from sklearn.metrics import classification_report,confusion_matrix\n",
    "\n",
    "# Logistic regression\n",
    "from sklearn.linear_model import LogisticRegression\n",
    "\n",
    "# Naive Bias\n",
    "from sklearn.naive_bayes import GaussianNB\n",
    "\n",
    "# Decision Tree\n",
    "from sklearn.tree import DecisionTreeClassifier\n",
    "\n",
    "# To save model with pickle\n",
    "import pickle\n",
    "\n",
    "# To save model with joblib\n",
    "import joblib\n",
    "\n",
    "# Random Tree\n",
    "from sklearn.ensemble import RandomForestClassifier\n",
    "\n",
    "#AdaBoostClassifier\n",
    "from sklearn.ensemble import AdaBoostClassifier\n",
    "\n",
    "# xg Boost\n",
    "from xgboost import XGBClassifier"
   ]
  },
  {
   "cell_type": "markdown",
   "id": "e2ebe353",
   "metadata": {},
   "source": [
    "# EDA"
   ]
  },
  {
   "cell_type": "markdown",
   "id": "a8a3fa4b",
   "metadata": {},
   "source": [
    "### Load dataset"
   ]
  },
  {
   "cell_type": "code",
   "execution_count": 2,
   "id": "37d3a712",
   "metadata": {},
   "outputs": [],
   "source": [
    "#loding the dataset\n",
    "df=pd.read_csv(\"Occupancy_Estimation.csv\")"
   ]
  },
  {
   "cell_type": "code",
   "execution_count": 3,
   "id": "4f8ec2b1",
   "metadata": {},
   "outputs": [
    {
     "data": {
      "text/html": [
       "<div>\n",
       "<style scoped>\n",
       "    .dataframe tbody tr th:only-of-type {\n",
       "        vertical-align: middle;\n",
       "    }\n",
       "\n",
       "    .dataframe tbody tr th {\n",
       "        vertical-align: top;\n",
       "    }\n",
       "\n",
       "    .dataframe thead th {\n",
       "        text-align: right;\n",
       "    }\n",
       "</style>\n",
       "<table border=\"1\" class=\"dataframe\">\n",
       "  <thead>\n",
       "    <tr style=\"text-align: right;\">\n",
       "      <th></th>\n",
       "      <th>Date</th>\n",
       "      <th>Time</th>\n",
       "      <th>S1_Temp</th>\n",
       "      <th>S2_Temp</th>\n",
       "      <th>S3_Temp</th>\n",
       "      <th>S4_Temp</th>\n",
       "      <th>S1_Light</th>\n",
       "      <th>S2_Light</th>\n",
       "      <th>S3_Light</th>\n",
       "      <th>S4_Light</th>\n",
       "      <th>S1_Sound</th>\n",
       "      <th>S2_Sound</th>\n",
       "      <th>S3_Sound</th>\n",
       "      <th>S4_Sound</th>\n",
       "      <th>S5_CO2</th>\n",
       "      <th>S5_CO2_Slope</th>\n",
       "      <th>S6_PIR</th>\n",
       "      <th>S7_PIR</th>\n",
       "      <th>Room_Occupancy_Count</th>\n",
       "    </tr>\n",
       "  </thead>\n",
       "  <tbody>\n",
       "    <tr>\n",
       "      <th>0</th>\n",
       "      <td>2017/12/22</td>\n",
       "      <td>10:49:41</td>\n",
       "      <td>24.94</td>\n",
       "      <td>24.75</td>\n",
       "      <td>24.56</td>\n",
       "      <td>25.38</td>\n",
       "      <td>121</td>\n",
       "      <td>34</td>\n",
       "      <td>53</td>\n",
       "      <td>40</td>\n",
       "      <td>0.08</td>\n",
       "      <td>0.19</td>\n",
       "      <td>0.06</td>\n",
       "      <td>0.06</td>\n",
       "      <td>390</td>\n",
       "      <td>0.769231</td>\n",
       "      <td>0</td>\n",
       "      <td>0</td>\n",
       "      <td>1</td>\n",
       "    </tr>\n",
       "    <tr>\n",
       "      <th>1</th>\n",
       "      <td>2017/12/22</td>\n",
       "      <td>10:50:12</td>\n",
       "      <td>24.94</td>\n",
       "      <td>24.75</td>\n",
       "      <td>24.56</td>\n",
       "      <td>25.44</td>\n",
       "      <td>121</td>\n",
       "      <td>33</td>\n",
       "      <td>53</td>\n",
       "      <td>40</td>\n",
       "      <td>0.93</td>\n",
       "      <td>0.05</td>\n",
       "      <td>0.06</td>\n",
       "      <td>0.06</td>\n",
       "      <td>390</td>\n",
       "      <td>0.646154</td>\n",
       "      <td>0</td>\n",
       "      <td>0</td>\n",
       "      <td>1</td>\n",
       "    </tr>\n",
       "    <tr>\n",
       "      <th>2</th>\n",
       "      <td>2017/12/22</td>\n",
       "      <td>10:50:42</td>\n",
       "      <td>25.00</td>\n",
       "      <td>24.75</td>\n",
       "      <td>24.50</td>\n",
       "      <td>25.44</td>\n",
       "      <td>121</td>\n",
       "      <td>34</td>\n",
       "      <td>53</td>\n",
       "      <td>40</td>\n",
       "      <td>0.43</td>\n",
       "      <td>0.11</td>\n",
       "      <td>0.08</td>\n",
       "      <td>0.06</td>\n",
       "      <td>390</td>\n",
       "      <td>0.519231</td>\n",
       "      <td>0</td>\n",
       "      <td>0</td>\n",
       "      <td>1</td>\n",
       "    </tr>\n",
       "    <tr>\n",
       "      <th>3</th>\n",
       "      <td>2017/12/22</td>\n",
       "      <td>10:51:13</td>\n",
       "      <td>25.00</td>\n",
       "      <td>24.75</td>\n",
       "      <td>24.56</td>\n",
       "      <td>25.44</td>\n",
       "      <td>121</td>\n",
       "      <td>34</td>\n",
       "      <td>53</td>\n",
       "      <td>40</td>\n",
       "      <td>0.41</td>\n",
       "      <td>0.10</td>\n",
       "      <td>0.10</td>\n",
       "      <td>0.09</td>\n",
       "      <td>390</td>\n",
       "      <td>0.388462</td>\n",
       "      <td>0</td>\n",
       "      <td>0</td>\n",
       "      <td>1</td>\n",
       "    </tr>\n",
       "    <tr>\n",
       "      <th>4</th>\n",
       "      <td>2017/12/22</td>\n",
       "      <td>10:51:44</td>\n",
       "      <td>25.00</td>\n",
       "      <td>24.75</td>\n",
       "      <td>24.56</td>\n",
       "      <td>25.44</td>\n",
       "      <td>121</td>\n",
       "      <td>34</td>\n",
       "      <td>54</td>\n",
       "      <td>40</td>\n",
       "      <td>0.18</td>\n",
       "      <td>0.06</td>\n",
       "      <td>0.06</td>\n",
       "      <td>0.06</td>\n",
       "      <td>390</td>\n",
       "      <td>0.253846</td>\n",
       "      <td>0</td>\n",
       "      <td>0</td>\n",
       "      <td>1</td>\n",
       "    </tr>\n",
       "  </tbody>\n",
       "</table>\n",
       "</div>"
      ],
      "text/plain": [
       "         Date      Time  S1_Temp  S2_Temp  S3_Temp  S4_Temp  S1_Light  \\\n",
       "0  2017/12/22  10:49:41    24.94    24.75    24.56    25.38       121   \n",
       "1  2017/12/22  10:50:12    24.94    24.75    24.56    25.44       121   \n",
       "2  2017/12/22  10:50:42    25.00    24.75    24.50    25.44       121   \n",
       "3  2017/12/22  10:51:13    25.00    24.75    24.56    25.44       121   \n",
       "4  2017/12/22  10:51:44    25.00    24.75    24.56    25.44       121   \n",
       "\n",
       "   S2_Light  S3_Light  S4_Light  S1_Sound  S2_Sound  S3_Sound  S4_Sound  \\\n",
       "0        34        53        40      0.08      0.19      0.06      0.06   \n",
       "1        33        53        40      0.93      0.05      0.06      0.06   \n",
       "2        34        53        40      0.43      0.11      0.08      0.06   \n",
       "3        34        53        40      0.41      0.10      0.10      0.09   \n",
       "4        34        54        40      0.18      0.06      0.06      0.06   \n",
       "\n",
       "   S5_CO2  S5_CO2_Slope  S6_PIR  S7_PIR  Room_Occupancy_Count  \n",
       "0     390      0.769231       0       0                     1  \n",
       "1     390      0.646154       0       0                     1  \n",
       "2     390      0.519231       0       0                     1  \n",
       "3     390      0.388462       0       0                     1  \n",
       "4     390      0.253846       0       0                     1  "
      ]
     },
     "execution_count": 3,
     "metadata": {},
     "output_type": "execute_result"
    }
   ],
   "source": [
    "df.head(5)"
   ]
  },
  {
   "cell_type": "code",
   "execution_count": 4,
   "id": "8973a552",
   "metadata": {},
   "outputs": [
    {
     "data": {
      "text/html": [
       "<div>\n",
       "<style scoped>\n",
       "    .dataframe tbody tr th:only-of-type {\n",
       "        vertical-align: middle;\n",
       "    }\n",
       "\n",
       "    .dataframe tbody tr th {\n",
       "        vertical-align: top;\n",
       "    }\n",
       "\n",
       "    .dataframe thead th {\n",
       "        text-align: right;\n",
       "    }\n",
       "</style>\n",
       "<table border=\"1\" class=\"dataframe\">\n",
       "  <thead>\n",
       "    <tr style=\"text-align: right;\">\n",
       "      <th></th>\n",
       "      <th>S1_Temp</th>\n",
       "      <th>S2_Temp</th>\n",
       "      <th>S3_Temp</th>\n",
       "      <th>S4_Temp</th>\n",
       "      <th>S1_Light</th>\n",
       "      <th>S2_Light</th>\n",
       "      <th>S3_Light</th>\n",
       "      <th>S4_Light</th>\n",
       "      <th>S1_Sound</th>\n",
       "      <th>S2_Sound</th>\n",
       "      <th>S3_Sound</th>\n",
       "      <th>S4_Sound</th>\n",
       "      <th>S5_CO2</th>\n",
       "      <th>S5_CO2_Slope</th>\n",
       "      <th>S6_PIR</th>\n",
       "      <th>S7_PIR</th>\n",
       "      <th>Room_Occupancy_Count</th>\n",
       "    </tr>\n",
       "  </thead>\n",
       "  <tbody>\n",
       "    <tr>\n",
       "      <th>count</th>\n",
       "      <td>10129.000000</td>\n",
       "      <td>10129.000000</td>\n",
       "      <td>10129.000000</td>\n",
       "      <td>10129.000000</td>\n",
       "      <td>10129.000000</td>\n",
       "      <td>10129.00000</td>\n",
       "      <td>10129.000000</td>\n",
       "      <td>10129.000000</td>\n",
       "      <td>10129.000000</td>\n",
       "      <td>10129.000000</td>\n",
       "      <td>10129.000000</td>\n",
       "      <td>10129.000000</td>\n",
       "      <td>10129.000000</td>\n",
       "      <td>10129.000000</td>\n",
       "      <td>10129.000000</td>\n",
       "      <td>10129.000000</td>\n",
       "      <td>10129.000000</td>\n",
       "    </tr>\n",
       "    <tr>\n",
       "      <th>mean</th>\n",
       "      <td>25.454012</td>\n",
       "      <td>25.546059</td>\n",
       "      <td>25.056621</td>\n",
       "      <td>25.754125</td>\n",
       "      <td>25.445059</td>\n",
       "      <td>26.01629</td>\n",
       "      <td>34.248494</td>\n",
       "      <td>13.220259</td>\n",
       "      <td>0.168178</td>\n",
       "      <td>0.120066</td>\n",
       "      <td>0.158119</td>\n",
       "      <td>0.103840</td>\n",
       "      <td>460.860401</td>\n",
       "      <td>-0.004830</td>\n",
       "      <td>0.090137</td>\n",
       "      <td>0.079574</td>\n",
       "      <td>0.398559</td>\n",
       "    </tr>\n",
       "    <tr>\n",
       "      <th>std</th>\n",
       "      <td>0.351351</td>\n",
       "      <td>0.586325</td>\n",
       "      <td>0.427283</td>\n",
       "      <td>0.356434</td>\n",
       "      <td>51.011264</td>\n",
       "      <td>67.30417</td>\n",
       "      <td>58.400744</td>\n",
       "      <td>19.602219</td>\n",
       "      <td>0.316709</td>\n",
       "      <td>0.266503</td>\n",
       "      <td>0.413637</td>\n",
       "      <td>0.120683</td>\n",
       "      <td>199.964940</td>\n",
       "      <td>1.164990</td>\n",
       "      <td>0.286392</td>\n",
       "      <td>0.270645</td>\n",
       "      <td>0.893633</td>\n",
       "    </tr>\n",
       "    <tr>\n",
       "      <th>min</th>\n",
       "      <td>24.940000</td>\n",
       "      <td>24.750000</td>\n",
       "      <td>24.440000</td>\n",
       "      <td>24.940000</td>\n",
       "      <td>0.000000</td>\n",
       "      <td>0.00000</td>\n",
       "      <td>0.000000</td>\n",
       "      <td>0.000000</td>\n",
       "      <td>0.060000</td>\n",
       "      <td>0.040000</td>\n",
       "      <td>0.040000</td>\n",
       "      <td>0.050000</td>\n",
       "      <td>345.000000</td>\n",
       "      <td>-6.296154</td>\n",
       "      <td>0.000000</td>\n",
       "      <td>0.000000</td>\n",
       "      <td>0.000000</td>\n",
       "    </tr>\n",
       "    <tr>\n",
       "      <th>25%</th>\n",
       "      <td>25.190000</td>\n",
       "      <td>25.190000</td>\n",
       "      <td>24.690000</td>\n",
       "      <td>25.440000</td>\n",
       "      <td>0.000000</td>\n",
       "      <td>0.00000</td>\n",
       "      <td>0.000000</td>\n",
       "      <td>0.000000</td>\n",
       "      <td>0.070000</td>\n",
       "      <td>0.050000</td>\n",
       "      <td>0.060000</td>\n",
       "      <td>0.060000</td>\n",
       "      <td>355.000000</td>\n",
       "      <td>-0.046154</td>\n",
       "      <td>0.000000</td>\n",
       "      <td>0.000000</td>\n",
       "      <td>0.000000</td>\n",
       "    </tr>\n",
       "    <tr>\n",
       "      <th>50%</th>\n",
       "      <td>25.380000</td>\n",
       "      <td>25.380000</td>\n",
       "      <td>24.940000</td>\n",
       "      <td>25.750000</td>\n",
       "      <td>0.000000</td>\n",
       "      <td>0.00000</td>\n",
       "      <td>0.000000</td>\n",
       "      <td>0.000000</td>\n",
       "      <td>0.080000</td>\n",
       "      <td>0.050000</td>\n",
       "      <td>0.060000</td>\n",
       "      <td>0.080000</td>\n",
       "      <td>360.000000</td>\n",
       "      <td>0.000000</td>\n",
       "      <td>0.000000</td>\n",
       "      <td>0.000000</td>\n",
       "      <td>0.000000</td>\n",
       "    </tr>\n",
       "    <tr>\n",
       "      <th>75%</th>\n",
       "      <td>25.630000</td>\n",
       "      <td>25.630000</td>\n",
       "      <td>25.380000</td>\n",
       "      <td>26.000000</td>\n",
       "      <td>12.000000</td>\n",
       "      <td>14.00000</td>\n",
       "      <td>50.000000</td>\n",
       "      <td>22.000000</td>\n",
       "      <td>0.080000</td>\n",
       "      <td>0.060000</td>\n",
       "      <td>0.070000</td>\n",
       "      <td>0.100000</td>\n",
       "      <td>465.000000</td>\n",
       "      <td>0.000000</td>\n",
       "      <td>0.000000</td>\n",
       "      <td>0.000000</td>\n",
       "      <td>0.000000</td>\n",
       "    </tr>\n",
       "    <tr>\n",
       "      <th>max</th>\n",
       "      <td>26.380000</td>\n",
       "      <td>29.000000</td>\n",
       "      <td>26.190000</td>\n",
       "      <td>26.560000</td>\n",
       "      <td>165.000000</td>\n",
       "      <td>258.00000</td>\n",
       "      <td>280.000000</td>\n",
       "      <td>74.000000</td>\n",
       "      <td>3.880000</td>\n",
       "      <td>3.440000</td>\n",
       "      <td>3.670000</td>\n",
       "      <td>3.400000</td>\n",
       "      <td>1270.000000</td>\n",
       "      <td>8.980769</td>\n",
       "      <td>1.000000</td>\n",
       "      <td>1.000000</td>\n",
       "      <td>3.000000</td>\n",
       "    </tr>\n",
       "  </tbody>\n",
       "</table>\n",
       "</div>"
      ],
      "text/plain": [
       "            S1_Temp       S2_Temp       S3_Temp       S4_Temp      S1_Light  \\\n",
       "count  10129.000000  10129.000000  10129.000000  10129.000000  10129.000000   \n",
       "mean      25.454012     25.546059     25.056621     25.754125     25.445059   \n",
       "std        0.351351      0.586325      0.427283      0.356434     51.011264   \n",
       "min       24.940000     24.750000     24.440000     24.940000      0.000000   \n",
       "25%       25.190000     25.190000     24.690000     25.440000      0.000000   \n",
       "50%       25.380000     25.380000     24.940000     25.750000      0.000000   \n",
       "75%       25.630000     25.630000     25.380000     26.000000     12.000000   \n",
       "max       26.380000     29.000000     26.190000     26.560000    165.000000   \n",
       "\n",
       "          S2_Light      S3_Light      S4_Light      S1_Sound      S2_Sound  \\\n",
       "count  10129.00000  10129.000000  10129.000000  10129.000000  10129.000000   \n",
       "mean      26.01629     34.248494     13.220259      0.168178      0.120066   \n",
       "std       67.30417     58.400744     19.602219      0.316709      0.266503   \n",
       "min        0.00000      0.000000      0.000000      0.060000      0.040000   \n",
       "25%        0.00000      0.000000      0.000000      0.070000      0.050000   \n",
       "50%        0.00000      0.000000      0.000000      0.080000      0.050000   \n",
       "75%       14.00000     50.000000     22.000000      0.080000      0.060000   \n",
       "max      258.00000    280.000000     74.000000      3.880000      3.440000   \n",
       "\n",
       "           S3_Sound      S4_Sound        S5_CO2  S5_CO2_Slope        S6_PIR  \\\n",
       "count  10129.000000  10129.000000  10129.000000  10129.000000  10129.000000   \n",
       "mean       0.158119      0.103840    460.860401     -0.004830      0.090137   \n",
       "std        0.413637      0.120683    199.964940      1.164990      0.286392   \n",
       "min        0.040000      0.050000    345.000000     -6.296154      0.000000   \n",
       "25%        0.060000      0.060000    355.000000     -0.046154      0.000000   \n",
       "50%        0.060000      0.080000    360.000000      0.000000      0.000000   \n",
       "75%        0.070000      0.100000    465.000000      0.000000      0.000000   \n",
       "max        3.670000      3.400000   1270.000000      8.980769      1.000000   \n",
       "\n",
       "             S7_PIR  Room_Occupancy_Count  \n",
       "count  10129.000000          10129.000000  \n",
       "mean       0.079574              0.398559  \n",
       "std        0.270645              0.893633  \n",
       "min        0.000000              0.000000  \n",
       "25%        0.000000              0.000000  \n",
       "50%        0.000000              0.000000  \n",
       "75%        0.000000              0.000000  \n",
       "max        1.000000              3.000000  "
      ]
     },
     "execution_count": 4,
     "metadata": {},
     "output_type": "execute_result"
    }
   ],
   "source": [
    "df.describe()"
   ]
  },
  {
   "cell_type": "code",
   "execution_count": 5,
   "id": "6ffe872b",
   "metadata": {},
   "outputs": [
    {
     "name": "stdout",
     "output_type": "stream",
     "text": [
      "<class 'pandas.core.frame.DataFrame'>\n",
      "RangeIndex: 10129 entries, 0 to 10128\n",
      "Data columns (total 19 columns):\n",
      " #   Column                Non-Null Count  Dtype  \n",
      "---  ------                --------------  -----  \n",
      " 0   Date                  10129 non-null  object \n",
      " 1   Time                  10129 non-null  object \n",
      " 2   S1_Temp               10129 non-null  float64\n",
      " 3   S2_Temp               10129 non-null  float64\n",
      " 4   S3_Temp               10129 non-null  float64\n",
      " 5   S4_Temp               10129 non-null  float64\n",
      " 6   S1_Light              10129 non-null  int64  \n",
      " 7   S2_Light              10129 non-null  int64  \n",
      " 8   S3_Light              10129 non-null  int64  \n",
      " 9   S4_Light              10129 non-null  int64  \n",
      " 10  S1_Sound              10129 non-null  float64\n",
      " 11  S2_Sound              10129 non-null  float64\n",
      " 12  S3_Sound              10129 non-null  float64\n",
      " 13  S4_Sound              10129 non-null  float64\n",
      " 14  S5_CO2                10129 non-null  int64  \n",
      " 15  S5_CO2_Slope          10129 non-null  float64\n",
      " 16  S6_PIR                10129 non-null  int64  \n",
      " 17  S7_PIR                10129 non-null  int64  \n",
      " 18  Room_Occupancy_Count  10129 non-null  int64  \n",
      "dtypes: float64(9), int64(8), object(2)\n",
      "memory usage: 1.5+ MB\n"
     ]
    }
   ],
   "source": [
    "df.info()"
   ]
  },
  {
   "cell_type": "code",
   "execution_count": 6,
   "id": "46d48fe7",
   "metadata": {},
   "outputs": [
    {
     "data": {
      "text/html": [
       "<div>\n",
       "<style scoped>\n",
       "    .dataframe tbody tr th:only-of-type {\n",
       "        vertical-align: middle;\n",
       "    }\n",
       "\n",
       "    .dataframe tbody tr th {\n",
       "        vertical-align: top;\n",
       "    }\n",
       "\n",
       "    .dataframe thead th {\n",
       "        text-align: right;\n",
       "    }\n",
       "</style>\n",
       "<table border=\"1\" class=\"dataframe\">\n",
       "  <thead>\n",
       "    <tr style=\"text-align: right;\">\n",
       "      <th></th>\n",
       "      <th>Date</th>\n",
       "      <th>Time</th>\n",
       "      <th>S1_Temp</th>\n",
       "      <th>S2_Temp</th>\n",
       "      <th>S3_Temp</th>\n",
       "      <th>S4_Temp</th>\n",
       "      <th>S1_Light</th>\n",
       "      <th>S2_Light</th>\n",
       "      <th>S3_Light</th>\n",
       "      <th>S4_Light</th>\n",
       "      <th>S1_Sound</th>\n",
       "      <th>S2_Sound</th>\n",
       "      <th>S3_Sound</th>\n",
       "      <th>S4_Sound</th>\n",
       "      <th>S5_CO2</th>\n",
       "      <th>S5_CO2_Slope</th>\n",
       "      <th>S6_PIR</th>\n",
       "      <th>S7_PIR</th>\n",
       "      <th>Room_Occupancy_Count</th>\n",
       "    </tr>\n",
       "  </thead>\n",
       "  <tbody>\n",
       "    <tr>\n",
       "      <th>346</th>\n",
       "      <td>2017/12/22</td>\n",
       "      <td>14:15:58</td>\n",
       "      <td>26.19</td>\n",
       "      <td>27.25</td>\n",
       "      <td>26.13</td>\n",
       "      <td>26.44</td>\n",
       "      <td>19</td>\n",
       "      <td>22</td>\n",
       "      <td>97</td>\n",
       "      <td>60</td>\n",
       "      <td>0.42</td>\n",
       "      <td>3.03</td>\n",
       "      <td>3.67</td>\n",
       "      <td>0.64</td>\n",
       "      <td>950</td>\n",
       "      <td>-0.069231</td>\n",
       "      <td>1</td>\n",
       "      <td>1</td>\n",
       "      <td>0</td>\n",
       "    </tr>\n",
       "    <tr>\n",
       "      <th>347</th>\n",
       "      <td>2017/12/22</td>\n",
       "      <td>14:16:28</td>\n",
       "      <td>26.19</td>\n",
       "      <td>27.06</td>\n",
       "      <td>26.13</td>\n",
       "      <td>26.38</td>\n",
       "      <td>19</td>\n",
       "      <td>22</td>\n",
       "      <td>98</td>\n",
       "      <td>59</td>\n",
       "      <td>2.32</td>\n",
       "      <td>2.08</td>\n",
       "      <td>1.64</td>\n",
       "      <td>0.10</td>\n",
       "      <td>960</td>\n",
       "      <td>-0.226923</td>\n",
       "      <td>1</td>\n",
       "      <td>1</td>\n",
       "      <td>0</td>\n",
       "    </tr>\n",
       "  </tbody>\n",
       "</table>\n",
       "</div>"
      ],
      "text/plain": [
       "           Date      Time  S1_Temp  S2_Temp  S3_Temp  S4_Temp  S1_Light  \\\n",
       "346  2017/12/22  14:15:58    26.19    27.25    26.13    26.44        19   \n",
       "347  2017/12/22  14:16:28    26.19    27.06    26.13    26.38        19   \n",
       "\n",
       "     S2_Light  S3_Light  S4_Light  S1_Sound  S2_Sound  S3_Sound  S4_Sound  \\\n",
       "346        22        97        60      0.42      3.03      3.67      0.64   \n",
       "347        22        98        59      2.32      2.08      1.64      0.10   \n",
       "\n",
       "     S5_CO2  S5_CO2_Slope  S6_PIR  S7_PIR  Room_Occupancy_Count  \n",
       "346     950     -0.069231       1       1                     0  \n",
       "347     960     -0.226923       1       1                     0  "
      ]
     },
     "execution_count": 6,
     "metadata": {},
     "output_type": "execute_result"
    }
   ],
   "source": [
    "df[df.Room_Occupancy_Count==0].head(2)"
   ]
  },
  {
   "cell_type": "code",
   "execution_count": 7,
   "id": "0d8613e5",
   "metadata": {},
   "outputs": [
    {
     "data": {
      "text/html": [
       "<div>\n",
       "<style scoped>\n",
       "    .dataframe tbody tr th:only-of-type {\n",
       "        vertical-align: middle;\n",
       "    }\n",
       "\n",
       "    .dataframe tbody tr th {\n",
       "        vertical-align: top;\n",
       "    }\n",
       "\n",
       "    .dataframe thead th {\n",
       "        text-align: right;\n",
       "    }\n",
       "</style>\n",
       "<table border=\"1\" class=\"dataframe\">\n",
       "  <thead>\n",
       "    <tr style=\"text-align: right;\">\n",
       "      <th></th>\n",
       "      <th>Date</th>\n",
       "      <th>Time</th>\n",
       "      <th>S1_Temp</th>\n",
       "      <th>S2_Temp</th>\n",
       "      <th>S3_Temp</th>\n",
       "      <th>S4_Temp</th>\n",
       "      <th>S1_Light</th>\n",
       "      <th>S2_Light</th>\n",
       "      <th>S3_Light</th>\n",
       "      <th>S4_Light</th>\n",
       "      <th>S1_Sound</th>\n",
       "      <th>S2_Sound</th>\n",
       "      <th>S3_Sound</th>\n",
       "      <th>S4_Sound</th>\n",
       "      <th>S5_CO2</th>\n",
       "      <th>S5_CO2_Slope</th>\n",
       "      <th>S6_PIR</th>\n",
       "      <th>S7_PIR</th>\n",
       "      <th>Room_Occupancy_Count</th>\n",
       "    </tr>\n",
       "  </thead>\n",
       "  <tbody>\n",
       "    <tr>\n",
       "      <th>0</th>\n",
       "      <td>2017/12/22</td>\n",
       "      <td>10:49:41</td>\n",
       "      <td>24.94</td>\n",
       "      <td>24.75</td>\n",
       "      <td>24.56</td>\n",
       "      <td>25.38</td>\n",
       "      <td>121</td>\n",
       "      <td>34</td>\n",
       "      <td>53</td>\n",
       "      <td>40</td>\n",
       "      <td>0.08</td>\n",
       "      <td>0.19</td>\n",
       "      <td>0.06</td>\n",
       "      <td>0.06</td>\n",
       "      <td>390</td>\n",
       "      <td>0.769231</td>\n",
       "      <td>0</td>\n",
       "      <td>0</td>\n",
       "      <td>1</td>\n",
       "    </tr>\n",
       "    <tr>\n",
       "      <th>1</th>\n",
       "      <td>2017/12/22</td>\n",
       "      <td>10:50:12</td>\n",
       "      <td>24.94</td>\n",
       "      <td>24.75</td>\n",
       "      <td>24.56</td>\n",
       "      <td>25.44</td>\n",
       "      <td>121</td>\n",
       "      <td>33</td>\n",
       "      <td>53</td>\n",
       "      <td>40</td>\n",
       "      <td>0.93</td>\n",
       "      <td>0.05</td>\n",
       "      <td>0.06</td>\n",
       "      <td>0.06</td>\n",
       "      <td>390</td>\n",
       "      <td>0.646154</td>\n",
       "      <td>0</td>\n",
       "      <td>0</td>\n",
       "      <td>1</td>\n",
       "    </tr>\n",
       "  </tbody>\n",
       "</table>\n",
       "</div>"
      ],
      "text/plain": [
       "         Date      Time  S1_Temp  S2_Temp  S3_Temp  S4_Temp  S1_Light  \\\n",
       "0  2017/12/22  10:49:41    24.94    24.75    24.56    25.38       121   \n",
       "1  2017/12/22  10:50:12    24.94    24.75    24.56    25.44       121   \n",
       "\n",
       "   S2_Light  S3_Light  S4_Light  S1_Sound  S2_Sound  S3_Sound  S4_Sound  \\\n",
       "0        34        53        40      0.08      0.19      0.06      0.06   \n",
       "1        33        53        40      0.93      0.05      0.06      0.06   \n",
       "\n",
       "   S5_CO2  S5_CO2_Slope  S6_PIR  S7_PIR  Room_Occupancy_Count  \n",
       "0     390      0.769231       0       0                     1  \n",
       "1     390      0.646154       0       0                     1  "
      ]
     },
     "execution_count": 7,
     "metadata": {},
     "output_type": "execute_result"
    }
   ],
   "source": [
    "df[df.Room_Occupancy_Count==1].head(2)"
   ]
  },
  {
   "cell_type": "code",
   "execution_count": 8,
   "id": "59fea3a4",
   "metadata": {},
   "outputs": [
    {
     "data": {
      "text/html": [
       "<div>\n",
       "<style scoped>\n",
       "    .dataframe tbody tr th:only-of-type {\n",
       "        vertical-align: middle;\n",
       "    }\n",
       "\n",
       "    .dataframe tbody tr th {\n",
       "        vertical-align: top;\n",
       "    }\n",
       "\n",
       "    .dataframe thead th {\n",
       "        text-align: right;\n",
       "    }\n",
       "</style>\n",
       "<table border=\"1\" class=\"dataframe\">\n",
       "  <thead>\n",
       "    <tr style=\"text-align: right;\">\n",
       "      <th></th>\n",
       "      <th>Date</th>\n",
       "      <th>Time</th>\n",
       "      <th>S1_Temp</th>\n",
       "      <th>S2_Temp</th>\n",
       "      <th>S3_Temp</th>\n",
       "      <th>S4_Temp</th>\n",
       "      <th>S1_Light</th>\n",
       "      <th>S2_Light</th>\n",
       "      <th>S3_Light</th>\n",
       "      <th>S4_Light</th>\n",
       "      <th>S1_Sound</th>\n",
       "      <th>S2_Sound</th>\n",
       "      <th>S3_Sound</th>\n",
       "      <th>S4_Sound</th>\n",
       "      <th>S5_CO2</th>\n",
       "      <th>S5_CO2_Slope</th>\n",
       "      <th>S6_PIR</th>\n",
       "      <th>S7_PIR</th>\n",
       "      <th>Room_Occupancy_Count</th>\n",
       "    </tr>\n",
       "  </thead>\n",
       "  <tbody>\n",
       "    <tr>\n",
       "      <th>75</th>\n",
       "      <td>2017/12/22</td>\n",
       "      <td>11:28:29</td>\n",
       "      <td>25.38</td>\n",
       "      <td>25.44</td>\n",
       "      <td>24.81</td>\n",
       "      <td>25.69</td>\n",
       "      <td>150</td>\n",
       "      <td>187</td>\n",
       "      <td>63</td>\n",
       "      <td>49</td>\n",
       "      <td>0.46</td>\n",
       "      <td>0.46</td>\n",
       "      <td>0.21</td>\n",
       "      <td>0.11</td>\n",
       "      <td>450</td>\n",
       "      <td>1.088462</td>\n",
       "      <td>1</td>\n",
       "      <td>1</td>\n",
       "      <td>2</td>\n",
       "    </tr>\n",
       "    <tr>\n",
       "      <th>76</th>\n",
       "      <td>2017/12/22</td>\n",
       "      <td>11:29:00</td>\n",
       "      <td>25.38</td>\n",
       "      <td>25.44</td>\n",
       "      <td>24.81</td>\n",
       "      <td>25.75</td>\n",
       "      <td>153</td>\n",
       "      <td>216</td>\n",
       "      <td>63</td>\n",
       "      <td>49</td>\n",
       "      <td>0.76</td>\n",
       "      <td>0.74</td>\n",
       "      <td>0.15</td>\n",
       "      <td>0.14</td>\n",
       "      <td>450</td>\n",
       "      <td>1.003846</td>\n",
       "      <td>1</td>\n",
       "      <td>1</td>\n",
       "      <td>2</td>\n",
       "    </tr>\n",
       "  </tbody>\n",
       "</table>\n",
       "</div>"
      ],
      "text/plain": [
       "          Date      Time  S1_Temp  S2_Temp  S3_Temp  S4_Temp  S1_Light  \\\n",
       "75  2017/12/22  11:28:29    25.38    25.44    24.81    25.69       150   \n",
       "76  2017/12/22  11:29:00    25.38    25.44    24.81    25.75       153   \n",
       "\n",
       "    S2_Light  S3_Light  S4_Light  S1_Sound  S2_Sound  S3_Sound  S4_Sound  \\\n",
       "75       187        63        49      0.46      0.46      0.21      0.11   \n",
       "76       216        63        49      0.76      0.74      0.15      0.14   \n",
       "\n",
       "    S5_CO2  S5_CO2_Slope  S6_PIR  S7_PIR  Room_Occupancy_Count  \n",
       "75     450      1.088462       1       1                     2  \n",
       "76     450      1.003846       1       1                     2  "
      ]
     },
     "execution_count": 8,
     "metadata": {},
     "output_type": "execute_result"
    }
   ],
   "source": [
    "df[df.Room_Occupancy_Count==2].head(2)"
   ]
  },
  {
   "cell_type": "code",
   "execution_count": 9,
   "id": "0ff83008",
   "metadata": {
    "scrolled": true
   },
   "outputs": [
    {
     "data": {
      "text/html": [
       "<div>\n",
       "<style scoped>\n",
       "    .dataframe tbody tr th:only-of-type {\n",
       "        vertical-align: middle;\n",
       "    }\n",
       "\n",
       "    .dataframe tbody tr th {\n",
       "        vertical-align: top;\n",
       "    }\n",
       "\n",
       "    .dataframe thead th {\n",
       "        text-align: right;\n",
       "    }\n",
       "</style>\n",
       "<table border=\"1\" class=\"dataframe\">\n",
       "  <thead>\n",
       "    <tr style=\"text-align: right;\">\n",
       "      <th></th>\n",
       "      <th>Date</th>\n",
       "      <th>Time</th>\n",
       "      <th>S1_Temp</th>\n",
       "      <th>S2_Temp</th>\n",
       "      <th>S3_Temp</th>\n",
       "      <th>S4_Temp</th>\n",
       "      <th>S1_Light</th>\n",
       "      <th>S2_Light</th>\n",
       "      <th>S3_Light</th>\n",
       "      <th>S4_Light</th>\n",
       "      <th>S1_Sound</th>\n",
       "      <th>S2_Sound</th>\n",
       "      <th>S3_Sound</th>\n",
       "      <th>S4_Sound</th>\n",
       "      <th>S5_CO2</th>\n",
       "      <th>S5_CO2_Slope</th>\n",
       "      <th>S6_PIR</th>\n",
       "      <th>S7_PIR</th>\n",
       "      <th>Room_Occupancy_Count</th>\n",
       "    </tr>\n",
       "  </thead>\n",
       "  <tbody>\n",
       "    <tr>\n",
       "      <th>191</th>\n",
       "      <td>2017/12/22</td>\n",
       "      <td>12:30:16</td>\n",
       "      <td>25.69</td>\n",
       "      <td>28.44</td>\n",
       "      <td>25.19</td>\n",
       "      <td>26.00</td>\n",
       "      <td>156</td>\n",
       "      <td>244</td>\n",
       "      <td>190</td>\n",
       "      <td>64</td>\n",
       "      <td>1.12</td>\n",
       "      <td>0.49</td>\n",
       "      <td>0.77</td>\n",
       "      <td>0.25</td>\n",
       "      <td>645</td>\n",
       "      <td>0.411538</td>\n",
       "      <td>1</td>\n",
       "      <td>1</td>\n",
       "      <td>3</td>\n",
       "    </tr>\n",
       "    <tr>\n",
       "      <th>192</th>\n",
       "      <td>2017/12/22</td>\n",
       "      <td>12:30:47</td>\n",
       "      <td>25.75</td>\n",
       "      <td>28.56</td>\n",
       "      <td>25.19</td>\n",
       "      <td>26.06</td>\n",
       "      <td>158</td>\n",
       "      <td>245</td>\n",
       "      <td>205</td>\n",
       "      <td>65</td>\n",
       "      <td>0.91</td>\n",
       "      <td>0.29</td>\n",
       "      <td>2.83</td>\n",
       "      <td>0.29</td>\n",
       "      <td>650</td>\n",
       "      <td>0.434615</td>\n",
       "      <td>1</td>\n",
       "      <td>1</td>\n",
       "      <td>3</td>\n",
       "    </tr>\n",
       "  </tbody>\n",
       "</table>\n",
       "</div>"
      ],
      "text/plain": [
       "           Date      Time  S1_Temp  S2_Temp  S3_Temp  S4_Temp  S1_Light  \\\n",
       "191  2017/12/22  12:30:16    25.69    28.44    25.19    26.00       156   \n",
       "192  2017/12/22  12:30:47    25.75    28.56    25.19    26.06       158   \n",
       "\n",
       "     S2_Light  S3_Light  S4_Light  S1_Sound  S2_Sound  S3_Sound  S4_Sound  \\\n",
       "191       244       190        64      1.12      0.49      0.77      0.25   \n",
       "192       245       205        65      0.91      0.29      2.83      0.29   \n",
       "\n",
       "     S5_CO2  S5_CO2_Slope  S6_PIR  S7_PIR  Room_Occupancy_Count  \n",
       "191     645      0.411538       1       1                     3  \n",
       "192     650      0.434615       1       1                     3  "
      ]
     },
     "execution_count": 9,
     "metadata": {},
     "output_type": "execute_result"
    }
   ],
   "source": [
    "df[df.Room_Occupancy_Count==3].head(2)"
   ]
  },
  {
   "cell_type": "code",
   "execution_count": 10,
   "id": "ee0372f7",
   "metadata": {},
   "outputs": [
    {
     "data": {
      "text/plain": [
       "Room_Occupancy_Count\n",
       "0    8228\n",
       "2     748\n",
       "3     694\n",
       "1     459\n",
       "Name: count, dtype: int64"
      ]
     },
     "execution_count": 10,
     "metadata": {},
     "output_type": "execute_result"
    }
   ],
   "source": [
    "df.Room_Occupancy_Count.value_counts()"
   ]
  },
  {
   "cell_type": "markdown",
   "id": "bf17a552",
   "metadata": {},
   "source": [
    "## Distribution plots"
   ]
  },
  {
   "cell_type": "code",
   "execution_count": 11,
   "id": "ebca7d6d",
   "metadata": {},
   "outputs": [
    {
     "name": "stderr",
     "output_type": "stream",
     "text": [
      "C:\\Users\\91994\\AppData\\Local\\Temp\\ipykernel_3844\\509903313.py:1: UserWarning: \n",
      "\n",
      "`distplot` is a deprecated function and will be removed in seaborn v0.14.0.\n",
      "\n",
      "Please adapt your code to use either `displot` (a figure-level function with\n",
      "similar flexibility) or `histplot` (an axes-level function for histograms).\n",
      "\n",
      "For a guide to updating your code to use the new functions, please see\n",
      "https://gist.github.com/mwaskom/de44147ed2974457ad6372750bbe5751\n",
      "\n",
      "  sns.distplot(df[['S1_Temp']], color='g', bins=20, hist_kws={'alpha': 0.4})\n"
     ]
    },
    {
     "data": {
      "text/plain": [
       "<Axes: ylabel='Density'>"
      ]
     },
     "execution_count": 11,
     "metadata": {},
     "output_type": "execute_result"
    },
    {
     "data": {
      "image/png": "[encoded data removed]",
      "text/plain": [
       "<Figure size 640x480 with 1 Axes>"
      ]
     },
     "metadata": {},
     "output_type": "display_data"
    }
   ],
   "source": [
    "sns.distplot(df[['S1_Temp']], color='g', bins=20, hist_kws={'alpha': 0.4})"
   ]
  },
  {
   "cell_type": "markdown",
   "id": "3c5f4a06",
   "metadata": {},
   "source": [
    "## Box plots"
   ]
  },
  {
   "cell_type": "code",
   "execution_count": 12,
   "id": "58017876",
   "metadata": {},
   "outputs": [
    {
     "data": {
      "text/plain": [
       "S1_Temp        Axes(0.125,0.77;0.352273x0.11)\n",
       "S2_Temp     Axes(0.547727,0.77;0.352273x0.11)\n",
       "S3_Temp       Axes(0.125,0.638;0.352273x0.11)\n",
       "S4_Temp    Axes(0.547727,0.638;0.352273x0.11)\n",
       "dtype: object"
      ]
     },
     "execution_count": 12,
     "metadata": {},
     "output_type": "execute_result"
    },
    {
     "data": {
      "image/png": "[encoded data removed]",
      "text/plain": [
       "<Figure size 1500x2000 with 12 Axes>"
      ]
     },
     "metadata": {},
     "output_type": "display_data"
    }
   ],
   "source": [
    "df[[\"S1_Temp\",\"S2_Temp\",\"S3_Temp\",\"S4_Temp\"]].plot(kind=\"box\",subplots=True,layout=(6,2),figsize=(15,20))"
   ]
  },
  {
   "cell_type": "code",
   "execution_count": 13,
   "id": "d9490d61",
   "metadata": {},
   "outputs": [
    {
     "data": {
      "text/plain": [
       "S1_Light        Axes(0.125,0.77;0.352273x0.11)\n",
       "S2_Light     Axes(0.547727,0.77;0.352273x0.11)\n",
       "S3_Light       Axes(0.125,0.638;0.352273x0.11)\n",
       "S4_Light    Axes(0.547727,0.638;0.352273x0.11)\n",
       "dtype: object"
      ]
     },
     "execution_count": 13,
     "metadata": {},
     "output_type": "execute_result"
    },
    {
     "data": {
      "image/png": "[encoded data removed]",
      "text/plain": [
       "<Figure size 1500x2000 with 12 Axes>"
      ]
     },
     "metadata": {},
     "output_type": "display_data"
    }
   ],
   "source": [
    "df[[\"S1_Light\",\"S2_Light\",\"S3_Light\",\"S4_Light\"]].plot(kind=\"box\",subplots=True,layout=(6,2),figsize=(15,20))"
   ]
  },
  {
   "cell_type": "code",
   "execution_count": 14,
   "id": "d4eb0c41",
   "metadata": {},
   "outputs": [
    {
     "data": {
      "text/plain": [
       "S1_Sound        Axes(0.125,0.77;0.352273x0.11)\n",
       "S2_Sound     Axes(0.547727,0.77;0.352273x0.11)\n",
       "S3_Sound       Axes(0.125,0.638;0.352273x0.11)\n",
       "S4_Sound    Axes(0.547727,0.638;0.352273x0.11)\n",
       "dtype: object"
      ]
     },
     "execution_count": 14,
     "metadata": {},
     "output_type": "execute_result"
    },
    {
     "data": {
      "image/png": "[encoded data removed]",
      "text/plain": [
       "<Figure size 1500x2000 with 12 Axes>"
      ]
     },
     "metadata": {},
     "output_type": "display_data"
    }
   ],
   "source": [
    "df[[\"S1_Sound\",\"S2_Sound\",\"S3_Sound\",\"S4_Sound\"]].plot(kind=\"box\",subplots=True,layout=(6,2),figsize=(15,20))"
   ]
  },
  {
   "cell_type": "code",
   "execution_count": null,
   "id": "c16664d8",
   "metadata": {},
   "outputs": [],
   "source": []
  },
  {
   "cell_type": "markdown",
   "id": "eb208deb",
   "metadata": {},
   "source": [
    "## Bar plots"
   ]
  },
  {
   "cell_type": "code",
   "execution_count": 15,
   "id": "6241c4de",
   "metadata": {},
   "outputs": [
    {
     "data": {
      "text/plain": [
       "<Axes: title={'center': 'Occupancy vs S7_PIR'}, xlabel='Room_Occupancy_Count'>"
      ]
     },
     "execution_count": 15,
     "metadata": {},
     "output_type": "execute_result"
    },
    {
     "data": {
      "image/png": "[encoded data removed]",
      "text/plain": [
       "<Figure size 640x480 with 1 Axes>"
      ]
     },
     "metadata": {},
     "output_type": "display_data"
    },
    {
     "data": {
      "image/png": "[encoded data removed]",
      "text/plain": [
       "<Figure size 640x480 with 1 Axes>"
      ]
     },
     "metadata": {},
     "output_type": "display_data"
    }
   ],
   "source": [
    "pd.crosstab(df[\"Room_Occupancy_Count\"],df[\"S6_PIR\"]).reset_index().plot(x='Room_Occupancy_Count', kind='bar',\n",
    "        title='Occupancy vs S6_PIR')\n",
    "pd.crosstab(df[\"Room_Occupancy_Count\"],df[\"S7_PIR\"]).reset_index().plot(x='Room_Occupancy_Count', kind='bar',\n",
    "        title='Occupancy vs S7_PIR')"
   ]
  },
  {
   "cell_type": "markdown",
   "id": "0d0f1c40",
   "metadata": {},
   "source": [
    "## Bivariate Analysis"
   ]
  },
  {
   "cell_type": "code",
   "execution_count": 16,
   "id": "eb973044",
   "metadata": {},
   "outputs": [
    {
     "data": {
      "image/png": "[encoded data removed]",
      "text/plain": [
       "<Figure size 640x480 with 4 Axes>"
      ]
     },
     "metadata": {},
     "output_type": "display_data"
    }
   ],
   "source": [
    "sdf = df[[\"S5_CO2\",\"S5_CO2_Slope\",\"Room_Occupancy_Count\"]]\n",
    "groups = sdf.groupby('Room_Occupancy_Count')\n",
    "\n",
    "# Plot\n",
    "fig, ax = plt.subplots(2,2)\n",
    "ax[0,0].margins(0.05) # Optional, just adds 5% padding to the autoscaling\n",
    "for name, group in groups:\n",
    "    ax[0,0].plot(group.S5_CO2, group.S5_CO2_Slope, marker='o', linestyle='', ms=1, label=name)\n",
    "ax[0,0].set_title('S5_CO2 vs S5_CO2_Slope')\n",
    "ax[0,0].legend()\n",
    "ax[0,0].set(xlabel='S5_CO2', ylabel='S5_CO2_Slope')\n",
    "\n",
    "\n",
    "sdf = df[[\"S1_Light\",\"S2_Light\",\"Room_Occupancy_Count\"]]\n",
    "groups = sdf.groupby('Room_Occupancy_Count')\n",
    "ax[0,1].margins(0.05)\n",
    "for name, group in groups:\n",
    "    ax[0,1].plot(group.S1_Light, group.S2_Light, marker='o', linestyle='', ms=1, label=name)\n",
    "ax[0,1].set_title('S1_Light vs S2_Light')\n",
    "ax[0,1].set(xlabel='S1_Light', ylabel='S2_Light')\n",
    "ax[0,1].legend()\n",
    "\n",
    "sdf = df[[\"S3_Light\",\"S4_Light\",\"Room_Occupancy_Count\"]]\n",
    "groups = sdf.groupby('Room_Occupancy_Count')\n",
    "\n",
    "ax[1,0].margins(0.05) # Optional, just adds 5% padding to the autoscaling\n",
    "for name, group in groups:\n",
    "    ax[1,0].plot(group.S3_Light, group.S4_Light, marker='o', linestyle='', ms=1, label=name)\n",
    "ax[1,0].legend()\n",
    "ax[1,0].set_title('S3_Light vs S4_Light')\n",
    "ax[1,0].set(xlabel='S3_Light', ylabel='S4_Light')\n",
    "\n",
    "fig.tight_layout()\n",
    "plt.show()"
   ]
  },
  {
   "cell_type": "code",
   "execution_count": 18,
   "id": "75f46de9",
   "metadata": {},
   "outputs": [
    {
     "data": {
      "image/png": "[encoded data removed]",
      "text/plain": [
       "<Figure size 640x480 with 4 Axes>"
      ]
     },
     "metadata": {},
     "output_type": "display_data"
    }
   ],
   "source": [
    "sdf = df[[\"S1_Temp\",\"S2_Temp\",\"Room_Occupancy_Count\"]]\n",
    "groups = sdf.groupby('Room_Occupancy_Count')\n",
    "\n",
    "# Plot\n",
    "fig, ax = plt.subplots(2,2)\n",
    "ax[0,0].margins(0.05) # Optional, just adds 5% padding to the autoscaling\n",
    "for name, group in groups:\n",
    "    ax[0,0].plot(group.S1_Temp, group.S2_Temp, marker='o', linestyle='', ms=1, label=name)\n",
    "ax[0,0].set_title('S1_Temp vs S2_Temp')\n",
    "ax[0,0].set(xlabel='S1_Temp', ylabel='S2_Temp')\n",
    "ax[0,0].legend()\n",
    "\n",
    "sdf = df[[\"S3_Temp\",\"S4_Temp\",\"Room_Occupancy_Count\"]]\n",
    "groups = sdf.groupby('Room_Occupancy_Count')\n",
    "\n",
    "ax[0,1].margins(0.05) # Optional, just adds 5% padding to the autoscaling\n",
    "for name, group in groups:\n",
    "    ax[0,1].plot(group.S3_Temp, group.S4_Temp, marker='o', linestyle='', ms=1, label=name)\n",
    "ax[0,1].set_title('S3_Temp vs S4_Temp')\n",
    "ax[0,1].set(xlabel='S3_Temp', ylabel='S4_Temp')\n",
    "ax[0,1].legend()\n",
    "\n",
    "sdf = df[[\"S1_Sound\",\"S2_Sound\",\"Room_Occupancy_Count\"]]\n",
    "groups = sdf.groupby('Room_Occupancy_Count')\n",
    "\n",
    "ax[1,0].margins(0.05) # Optional, just adds 5% padding to the autoscaling\n",
    "for name, group in groups:\n",
    "    ax[1,0].plot(group.S1_Sound, group.S2_Sound, marker='o', linestyle='', ms=1, label=name)\n",
    "ax[1,0].set_title('S1_Sound vs S2_Sound')\n",
    "ax[1,0].set(xlabel='S1_Sound', ylabel='S2_Sound')\n",
    "ax[1,0].legend()\n",
    "\n",
    "sdf = df[[\"S3_Sound\",\"S4_Sound\",\"Room_Occupancy_Count\"]]\n",
    "groups = sdf.groupby('Room_Occupancy_Count')\n",
    "\n",
    "ax[1,1].margins(0.05) # Optional, just adds 5% padding to the autoscaling\n",
    "for name, group in groups:\n",
    "    ax[1,1].plot(group.S3_Sound, group.S4_Sound, marker='o', linestyle='', ms=1, label=name)\n",
    "ax[1,1].set_title('S3_Sound vs S4_Sound')\n",
    "ax[1,1].set(xlabel='S3_Sound', ylabel='S4_Sound')\n",
    "ax[1,1].legend()\n",
    "\n",
    "\n",
    "fig.tight_layout()\n",
    "plt.show()"
   ]
  },
  {
   "cell_type": "markdown",
   "id": "6df85f0b",
   "metadata": {},
   "source": [
    "## Correlation Matrix"
   ]
  },
  {
   "cell_type": "code",
   "execution_count": 24,
   "id": "ddd0591c",
   "metadata": {
    "scrolled": true
   },
   "outputs": [
    {
     "data": {
      "text/html": [
       "<div>\n",
       "<style scoped>\n",
       "    .dataframe tbody tr th:only-of-type {\n",
       "        vertical-align: middle;\n",
       "    }\n",
       "\n",
       "    .dataframe tbody tr th {\n",
       "        vertical-align: top;\n",
       "    }\n",
       "\n",
       "    .dataframe thead th {\n",
       "        text-align: right;\n",
       "    }\n",
       "</style>\n",
       "<table border=\"1\" class=\"dataframe\">\n",
       "  <thead>\n",
       "    <tr style=\"text-align: right;\">\n",
       "      <th></th>\n",
       "      <th>S1_Temp</th>\n",
       "      <th>S2_Temp</th>\n",
       "      <th>S3_Temp</th>\n",
       "      <th>S4_Temp</th>\n",
       "      <th>S1_Light</th>\n",
       "      <th>S2_Light</th>\n",
       "      <th>S3_Light</th>\n",
       "      <th>S4_Light</th>\n",
       "      <th>S1_Sound</th>\n",
       "      <th>S2_Sound</th>\n",
       "      <th>S3_Sound</th>\n",
       "      <th>S4_Sound</th>\n",
       "      <th>S5_CO2</th>\n",
       "      <th>S5_CO2_Slope</th>\n",
       "      <th>S6_PIR</th>\n",
       "      <th>S7_PIR</th>\n",
       "      <th>Room_Occupancy_Count</th>\n",
       "    </tr>\n",
       "  </thead>\n",
       "  <tbody>\n",
       "    <tr>\n",
       "      <th>S1_Temp</th>\n",
       "      <td>1.000000</td>\n",
       "      <td>0.799707</td>\n",
       "      <td>0.948839</td>\n",
       "      <td>0.855279</td>\n",
       "      <td>0.680743</td>\n",
       "      <td>0.548735</td>\n",
       "      <td>0.645163</td>\n",
       "      <td>0.212217</td>\n",
       "      <td>0.436099</td>\n",
       "      <td>0.391137</td>\n",
       "      <td>0.438769</td>\n",
       "      <td>0.355826</td>\n",
       "      <td>0.866718</td>\n",
       "      <td>0.137391</td>\n",
       "      <td>0.436363</td>\n",
       "      <td>0.474077</td>\n",
       "      <td>0.700868</td>\n",
       "    </tr>\n",
       "    <tr>\n",
       "      <th>S2_Temp</th>\n",
       "      <td>0.799707</td>\n",
       "      <td>1.000000</td>\n",
       "      <td>0.765525</td>\n",
       "      <td>0.696581</td>\n",
       "      <td>0.639773</td>\n",
       "      <td>0.645987</td>\n",
       "      <td>0.607349</td>\n",
       "      <td>0.370897</td>\n",
       "      <td>0.438274</td>\n",
       "      <td>0.409545</td>\n",
       "      <td>0.427133</td>\n",
       "      <td>0.378724</td>\n",
       "      <td>0.743722</td>\n",
       "      <td>0.202547</td>\n",
       "      <td>0.476901</td>\n",
       "      <td>0.465884</td>\n",
       "      <td>0.671263</td>\n",
       "    </tr>\n",
       "    <tr>\n",
       "      <th>S3_Temp</th>\n",
       "      <td>0.948839</td>\n",
       "      <td>0.765525</td>\n",
       "      <td>1.000000</td>\n",
       "      <td>0.885186</td>\n",
       "      <td>0.594311</td>\n",
       "      <td>0.500054</td>\n",
       "      <td>0.642601</td>\n",
       "      <td>0.301419</td>\n",
       "      <td>0.375183</td>\n",
       "      <td>0.344026</td>\n",
       "      <td>0.398177</td>\n",
       "      <td>0.326182</td>\n",
       "      <td>0.821308</td>\n",
       "      <td>0.095842</td>\n",
       "      <td>0.403355</td>\n",
       "      <td>0.460309</td>\n",
       "      <td>0.652047</td>\n",
       "    </tr>\n",
       "    <tr>\n",
       "      <th>S4_Temp</th>\n",
       "      <td>0.855279</td>\n",
       "      <td>0.696581</td>\n",
       "      <td>0.885186</td>\n",
       "      <td>1.000000</td>\n",
       "      <td>0.581482</td>\n",
       "      <td>0.456350</td>\n",
       "      <td>0.588459</td>\n",
       "      <td>0.386871</td>\n",
       "      <td>0.355111</td>\n",
       "      <td>0.312594</td>\n",
       "      <td>0.340808</td>\n",
       "      <td>0.294939</td>\n",
       "      <td>0.650320</td>\n",
       "      <td>0.106208</td>\n",
       "      <td>0.340000</td>\n",
       "      <td>0.339037</td>\n",
       "      <td>0.526509</td>\n",
       "    </tr>\n",
       "    <tr>\n",
       "      <th>S1_Light</th>\n",
       "      <td>0.680743</td>\n",
       "      <td>0.639773</td>\n",
       "      <td>0.594311</td>\n",
       "      <td>0.581482</td>\n",
       "      <td>1.000000</td>\n",
       "      <td>0.842090</td>\n",
       "      <td>0.816438</td>\n",
       "      <td>0.510853</td>\n",
       "      <td>0.601166</td>\n",
       "      <td>0.534274</td>\n",
       "      <td>0.494080</td>\n",
       "      <td>0.441712</td>\n",
       "      <td>0.602740</td>\n",
       "      <td>0.498185</td>\n",
       "      <td>0.607159</td>\n",
       "      <td>0.545213</td>\n",
       "      <td>0.849058</td>\n",
       "    </tr>\n",
       "    <tr>\n",
       "      <th>S2_Light</th>\n",
       "      <td>0.548735</td>\n",
       "      <td>0.645987</td>\n",
       "      <td>0.500054</td>\n",
       "      <td>0.456350</td>\n",
       "      <td>0.842090</td>\n",
       "      <td>1.000000</td>\n",
       "      <td>0.709579</td>\n",
       "      <td>0.458914</td>\n",
       "      <td>0.503021</td>\n",
       "      <td>0.560630</td>\n",
       "      <td>0.439269</td>\n",
       "      <td>0.413932</td>\n",
       "      <td>0.566764</td>\n",
       "      <td>0.493281</td>\n",
       "      <td>0.554658</td>\n",
       "      <td>0.556797</td>\n",
       "      <td>0.788764</td>\n",
       "    </tr>\n",
       "    <tr>\n",
       "      <th>S3_Light</th>\n",
       "      <td>0.645163</td>\n",
       "      <td>0.607349</td>\n",
       "      <td>0.642601</td>\n",
       "      <td>0.588459</td>\n",
       "      <td>0.816438</td>\n",
       "      <td>0.709579</td>\n",
       "      <td>1.000000</td>\n",
       "      <td>0.579484</td>\n",
       "      <td>0.502606</td>\n",
       "      <td>0.434859</td>\n",
       "      <td>0.577151</td>\n",
       "      <td>0.473606</td>\n",
       "      <td>0.650829</td>\n",
       "      <td>0.447708</td>\n",
       "      <td>0.501836</td>\n",
       "      <td>0.577815</td>\n",
       "      <td>0.793081</td>\n",
       "    </tr>\n",
       "    <tr>\n",
       "      <th>S4_Light</th>\n",
       "      <td>0.212217</td>\n",
       "      <td>0.370897</td>\n",
       "      <td>0.301419</td>\n",
       "      <td>0.386871</td>\n",
       "      <td>0.510853</td>\n",
       "      <td>0.458914</td>\n",
       "      <td>0.579484</td>\n",
       "      <td>1.000000</td>\n",
       "      <td>0.293632</td>\n",
       "      <td>0.303949</td>\n",
       "      <td>0.169702</td>\n",
       "      <td>0.200793</td>\n",
       "      <td>0.148608</td>\n",
       "      <td>0.212718</td>\n",
       "      <td>0.324545</td>\n",
       "      <td>0.220196</td>\n",
       "      <td>0.355715</td>\n",
       "    </tr>\n",
       "    <tr>\n",
       "      <th>S1_Sound</th>\n",
       "      <td>0.436099</td>\n",
       "      <td>0.438274</td>\n",
       "      <td>0.375183</td>\n",
       "      <td>0.355111</td>\n",
       "      <td>0.601166</td>\n",
       "      <td>0.503021</td>\n",
       "      <td>0.502606</td>\n",
       "      <td>0.293632</td>\n",
       "      <td>1.000000</td>\n",
       "      <td>0.560062</td>\n",
       "      <td>0.540736</td>\n",
       "      <td>0.557733</td>\n",
       "      <td>0.391903</td>\n",
       "      <td>0.335772</td>\n",
       "      <td>0.522015</td>\n",
       "      <td>0.463040</td>\n",
       "      <td>0.573748</td>\n",
       "    </tr>\n",
       "    <tr>\n",
       "      <th>S2_Sound</th>\n",
       "      <td>0.391137</td>\n",
       "      <td>0.409545</td>\n",
       "      <td>0.344026</td>\n",
       "      <td>0.312594</td>\n",
       "      <td>0.534274</td>\n",
       "      <td>0.560630</td>\n",
       "      <td>0.434859</td>\n",
       "      <td>0.303949</td>\n",
       "      <td>0.560062</td>\n",
       "      <td>1.000000</td>\n",
       "      <td>0.529830</td>\n",
       "      <td>0.578635</td>\n",
       "      <td>0.333836</td>\n",
       "      <td>0.357235</td>\n",
       "      <td>0.485697</td>\n",
       "      <td>0.507231</td>\n",
       "      <td>0.557853</td>\n",
       "    </tr>\n",
       "    <tr>\n",
       "      <th>S3_Sound</th>\n",
       "      <td>0.438769</td>\n",
       "      <td>0.427133</td>\n",
       "      <td>0.398177</td>\n",
       "      <td>0.340808</td>\n",
       "      <td>0.494080</td>\n",
       "      <td>0.439269</td>\n",
       "      <td>0.577151</td>\n",
       "      <td>0.169702</td>\n",
       "      <td>0.540736</td>\n",
       "      <td>0.529830</td>\n",
       "      <td>1.000000</td>\n",
       "      <td>0.696670</td>\n",
       "      <td>0.447220</td>\n",
       "      <td>0.318815</td>\n",
       "      <td>0.434225</td>\n",
       "      <td>0.536820</td>\n",
       "      <td>0.531685</td>\n",
       "    </tr>\n",
       "    <tr>\n",
       "      <th>S4_Sound</th>\n",
       "      <td>0.355826</td>\n",
       "      <td>0.378724</td>\n",
       "      <td>0.326182</td>\n",
       "      <td>0.294939</td>\n",
       "      <td>0.441712</td>\n",
       "      <td>0.413932</td>\n",
       "      <td>0.473606</td>\n",
       "      <td>0.200793</td>\n",
       "      <td>0.557733</td>\n",
       "      <td>0.578635</td>\n",
       "      <td>0.696670</td>\n",
       "      <td>1.000000</td>\n",
       "      <td>0.330629</td>\n",
       "      <td>0.323519</td>\n",
       "      <td>0.394954</td>\n",
       "      <td>0.466848</td>\n",
       "      <td>0.460287</td>\n",
       "    </tr>\n",
       "    <tr>\n",
       "      <th>S5_CO2</th>\n",
       "      <td>0.866718</td>\n",
       "      <td>0.743722</td>\n",
       "      <td>0.821308</td>\n",
       "      <td>0.650320</td>\n",
       "      <td>0.602740</td>\n",
       "      <td>0.566764</td>\n",
       "      <td>0.650829</td>\n",
       "      <td>0.148608</td>\n",
       "      <td>0.391903</td>\n",
       "      <td>0.333836</td>\n",
       "      <td>0.447220</td>\n",
       "      <td>0.330629</td>\n",
       "      <td>1.000000</td>\n",
       "      <td>0.069220</td>\n",
       "      <td>0.395265</td>\n",
       "      <td>0.473437</td>\n",
       "      <td>0.660144</td>\n",
       "    </tr>\n",
       "    <tr>\n",
       "      <th>S5_CO2_Slope</th>\n",
       "      <td>0.137391</td>\n",
       "      <td>0.202547</td>\n",
       "      <td>0.095842</td>\n",
       "      <td>0.106208</td>\n",
       "      <td>0.498185</td>\n",
       "      <td>0.493281</td>\n",
       "      <td>0.447708</td>\n",
       "      <td>0.212718</td>\n",
       "      <td>0.335772</td>\n",
       "      <td>0.357235</td>\n",
       "      <td>0.318815</td>\n",
       "      <td>0.323519</td>\n",
       "      <td>0.069220</td>\n",
       "      <td>1.000000</td>\n",
       "      <td>0.368374</td>\n",
       "      <td>0.425346</td>\n",
       "      <td>0.601105</td>\n",
       "    </tr>\n",
       "    <tr>\n",
       "      <th>S6_PIR</th>\n",
       "      <td>0.436363</td>\n",
       "      <td>0.476901</td>\n",
       "      <td>0.403355</td>\n",
       "      <td>0.340000</td>\n",
       "      <td>0.607159</td>\n",
       "      <td>0.554658</td>\n",
       "      <td>0.501836</td>\n",
       "      <td>0.324545</td>\n",
       "      <td>0.522015</td>\n",
       "      <td>0.485697</td>\n",
       "      <td>0.434225</td>\n",
       "      <td>0.394954</td>\n",
       "      <td>0.395265</td>\n",
       "      <td>0.368374</td>\n",
       "      <td>1.000000</td>\n",
       "      <td>0.571125</td>\n",
       "      <td>0.633133</td>\n",
       "    </tr>\n",
       "    <tr>\n",
       "      <th>S7_PIR</th>\n",
       "      <td>0.474077</td>\n",
       "      <td>0.465884</td>\n",
       "      <td>0.460309</td>\n",
       "      <td>0.339037</td>\n",
       "      <td>0.545213</td>\n",
       "      <td>0.556797</td>\n",
       "      <td>0.577815</td>\n",
       "      <td>0.220196</td>\n",
       "      <td>0.463040</td>\n",
       "      <td>0.507231</td>\n",
       "      <td>0.536820</td>\n",
       "      <td>0.466848</td>\n",
       "      <td>0.473437</td>\n",
       "      <td>0.425346</td>\n",
       "      <td>0.571125</td>\n",
       "      <td>1.000000</td>\n",
       "      <td>0.695138</td>\n",
       "    </tr>\n",
       "    <tr>\n",
       "      <th>Room_Occupancy_Count</th>\n",
       "      <td>0.700868</td>\n",
       "      <td>0.671263</td>\n",
       "      <td>0.652047</td>\n",
       "      <td>0.526509</td>\n",
       "      <td>0.849058</td>\n",
       "      <td>0.788764</td>\n",
       "      <td>0.793081</td>\n",
       "      <td>0.355715</td>\n",
       "      <td>0.573748</td>\n",
       "      <td>0.557853</td>\n",
       "      <td>0.531685</td>\n",
       "      <td>0.460287</td>\n",
       "      <td>0.660144</td>\n",
       "      <td>0.601105</td>\n",
       "      <td>0.633133</td>\n",
       "      <td>0.695138</td>\n",
       "      <td>1.000000</td>\n",
       "    </tr>\n",
       "  </tbody>\n",
       "</table>\n",
       "</div>"
      ],
      "text/plain": [
       "                       S1_Temp   S2_Temp   S3_Temp   S4_Temp  S1_Light  \\\n",
       "S1_Temp               1.000000  0.799707  0.948839  0.855279  0.680743   \n",
       "S2_Temp               0.799707  1.000000  0.765525  0.696581  0.639773   \n",
       "S3_Temp               0.948839  0.765525  1.000000  0.885186  0.594311   \n",
       "S4_Temp               0.855279  0.696581  0.885186  1.000000  0.581482   \n",
       "S1_Light              0.680743  0.639773  0.594311  0.581482  1.000000   \n",
       "S2_Light              0.548735  0.645987  0.500054  0.456350  0.842090   \n",
       "S3_Light              0.645163  0.607349  0.642601  0.588459  0.816438   \n",
       "S4_Light              0.212217  0.370897  0.301419  0.386871  0.510853   \n",
       "S1_Sound              0.436099  0.438274  0.375183  0.355111  0.601166   \n",
       "S2_Sound              0.391137  0.409545  0.344026  0.312594  0.534274   \n",
       "S3_Sound              0.438769  0.427133  0.398177  0.340808  0.494080   \n",
       "S4_Sound              0.355826  0.378724  0.326182  0.294939  0.441712   \n",
       "S5_CO2                0.866718  0.743722  0.821308  0.650320  0.602740   \n",
       "S5_CO2_Slope          0.137391  0.202547  0.095842  0.106208  0.498185   \n",
       "S6_PIR                0.436363  0.476901  0.403355  0.340000  0.607159   \n",
       "S7_PIR                0.474077  0.465884  0.460309  0.339037  0.545213   \n",
       "Room_Occupancy_Count  0.700868  0.671263  0.652047  0.526509  0.849058   \n",
       "\n",
       "                      S2_Light  S3_Light  S4_Light  S1_Sound  S2_Sound  \\\n",
       "S1_Temp               0.548735  0.645163  0.212217  0.436099  0.391137   \n",
       "S2_Temp               0.645987  0.607349  0.370897  0.438274  0.409545   \n",
       "S3_Temp               0.500054  0.642601  0.301419  0.375183  0.344026   \n",
       "S4_Temp               0.456350  0.588459  0.386871  0.355111  0.312594   \n",
       "S1_Light              0.842090  0.816438  0.510853  0.601166  0.534274   \n",
       "S2_Light              1.000000  0.709579  0.458914  0.503021  0.560630   \n",
       "S3_Light              0.709579  1.000000  0.579484  0.502606  0.434859   \n",
       "S4_Light              0.458914  0.579484  1.000000  0.293632  0.303949   \n",
       "S1_Sound              0.503021  0.502606  0.293632  1.000000  0.560062   \n",
       "S2_Sound              0.560630  0.434859  0.303949  0.560062  1.000000   \n",
       "S3_Sound              0.439269  0.577151  0.169702  0.540736  0.529830   \n",
       "S4_Sound              0.413932  0.473606  0.200793  0.557733  0.578635   \n",
       "S5_CO2                0.566764  0.650829  0.148608  0.391903  0.333836   \n",
       "S5_CO2_Slope          0.493281  0.447708  0.212718  0.335772  0.357235   \n",
       "S6_PIR                0.554658  0.501836  0.324545  0.522015  0.485697   \n",
       "S7_PIR                0.556797  0.577815  0.220196  0.463040  0.507231   \n",
       "Room_Occupancy_Count  0.788764  0.793081  0.355715  0.573748  0.557853   \n",
       "\n",
       "                      S3_Sound  S4_Sound    S5_CO2  S5_CO2_Slope    S6_PIR  \\\n",
       "S1_Temp               0.438769  0.355826  0.866718      0.137391  0.436363   \n",
       "S2_Temp               0.427133  0.378724  0.743722      0.202547  0.476901   \n",
       "S3_Temp               0.398177  0.326182  0.821308      0.095842  0.403355   \n",
       "S4_Temp               0.340808  0.294939  0.650320      0.106208  0.340000   \n",
       "S1_Light              0.494080  0.441712  0.602740      0.498185  0.607159   \n",
       "S2_Light              0.439269  0.413932  0.566764      0.493281  0.554658   \n",
       "S3_Light              0.577151  0.473606  0.650829      0.447708  0.501836   \n",
       "S4_Light              0.169702  0.200793  0.148608      0.212718  0.324545   \n",
       "S1_Sound              0.540736  0.557733  0.391903      0.335772  0.522015   \n",
       "S2_Sound              0.529830  0.578635  0.333836      0.357235  0.485697   \n",
       "S3_Sound              1.000000  0.696670  0.447220      0.318815  0.434225   \n",
       "S4_Sound              0.696670  1.000000  0.330629      0.323519  0.394954   \n",
       "S5_CO2                0.447220  0.330629  1.000000      0.069220  0.395265   \n",
       "S5_CO2_Slope          0.318815  0.323519  0.069220      1.000000  0.368374   \n",
       "S6_PIR                0.434225  0.394954  0.395265      0.368374  1.000000   \n",
       "S7_PIR                0.536820  0.466848  0.473437      0.425346  0.571125   \n",
       "Room_Occupancy_Count  0.531685  0.460287  0.660144      0.601105  0.633133   \n",
       "\n",
       "                        S7_PIR  Room_Occupancy_Count  \n",
       "S1_Temp               0.474077              0.700868  \n",
       "S2_Temp               0.465884              0.671263  \n",
       "S3_Temp               0.460309              0.652047  \n",
       "S4_Temp               0.339037              0.526509  \n",
       "S1_Light              0.545213              0.849058  \n",
       "S2_Light              0.556797              0.788764  \n",
       "S3_Light              0.577815              0.793081  \n",
       "S4_Light              0.220196              0.355715  \n",
       "S1_Sound              0.463040              0.573748  \n",
       "S2_Sound              0.507231              0.557853  \n",
       "S3_Sound              0.536820              0.531685  \n",
       "S4_Sound              0.466848              0.460287  \n",
       "S5_CO2                0.473437              0.660144  \n",
       "S5_CO2_Slope          0.425346              0.601105  \n",
       "S6_PIR                0.571125              0.633133  \n",
       "S7_PIR                1.000000              0.695138  \n",
       "Room_Occupancy_Count  0.695138              1.000000  "
      ]
     },
     "execution_count": 24,
     "metadata": {},
     "output_type": "execute_result"
    }
   ],
   "source": [
    "df[['S1_Temp', 'S2_Temp', 'S3_Temp', 'S4_Temp', 'S1_Light',\n",
    "       'S2_Light', 'S3_Light', 'S4_Light', 'S1_Sound', 'S2_Sound', 'S3_Sound',\n",
    "       'S4_Sound', 'S5_CO2', 'S5_CO2_Slope', 'S6_PIR', 'S7_PIR',\"Room_Occupancy_Count\"]].corr()"
   ]
  },
  {
   "cell_type": "markdown",
   "id": "7331b5bd",
   "metadata": {},
   "source": [
    "## Scatter plot"
   ]
  },
  {
   "cell_type": "code",
   "execution_count": 25,
   "id": "ba1a7ad3",
   "metadata": {},
   "outputs": [
    {
     "data": {
      "image/png": "[encoded data removed]",
      "text/plain": [
       "<Figure size 640x480 with 1 Axes>"
      ]
     },
     "metadata": {},
     "output_type": "display_data"
    }
   ],
   "source": [
    "figure=plt.scatter(x=df[\"Room_Occupancy_Count\"],y=df[\"S1_Light\"])\n"
   ]
  },
  {
   "cell_type": "code",
   "execution_count": 26,
   "id": "b0cbd9cd",
   "metadata": {},
   "outputs": [
    {
     "data": {
      "text/plain": [
       "Index(['Date', 'Time', 'S1_Temp', 'S2_Temp', 'S3_Temp', 'S4_Temp', 'S1_Light',\n",
       "       'S2_Light', 'S3_Light', 'S4_Light', 'S1_Sound', 'S2_Sound', 'S3_Sound',\n",
       "       'S4_Sound', 'S5_CO2', 'S5_CO2_Slope', 'S6_PIR', 'S7_PIR',\n",
       "       'Room_Occupancy_Count'],\n",
       "      dtype='object')"
      ]
     },
     "execution_count": 26,
     "metadata": {},
     "output_type": "execute_result"
    }
   ],
   "source": [
    "df.columns"
   ]
  },
  {
   "cell_type": "markdown",
   "id": "55f36c65",
   "metadata": {},
   "source": [
    "## Train / Test Data Preparation"
   ]
  },
  {
   "cell_type": "code",
   "execution_count": 27,
   "id": "2c85da9d",
   "metadata": {},
   "outputs": [],
   "source": [
    "X = df[['S1_Temp', 'S2_Temp', 'S3_Temp', 'S4_Temp', 'S1_Light',\n",
    "       'S2_Light', 'S3_Light', 'S4_Light', 'S1_Sound', 'S2_Sound', 'S3_Sound',\n",
    "       'S4_Sound', 'S5_CO2', 'S5_CO2_Slope', 'S6_PIR', 'S7_PIR',]]\n",
    "\n",
    "y = df['Room_Occupancy_Count']"
   ]
  },
  {
   "cell_type": "code",
   "execution_count": 36,
   "id": "f1b0127e",
   "metadata": {},
   "outputs": [],
   "source": [
    "X_train, X_test, y_train, y_test = train_test_split(X,y, test_size=0.2)"
   ]
  },
  {
   "cell_type": "markdown",
   "id": "a99293ce",
   "metadata": {},
   "source": [
    "# KNN"
   ]
  },
  {
   "cell_type": "code",
   "execution_count": 29,
   "id": "739a305f",
   "metadata": {},
   "outputs": [],
   "source": [
    "#knn model\n",
    "knn_model = KNeighborsClassifier(n_neighbors=3)"
   ]
  },
  {
   "cell_type": "code",
   "execution_count": 39,
   "id": "7d0880ab",
   "metadata": {},
   "outputs": [],
   "source": [
    "#Scaling\n",
    "scaler = MinMaxScaler()\n",
    "scaler.fit(X_train)\n",
    "knn_model.fit((scaler.transform(X_train)),y_train)\n",
    "scaler.fit(X_test)\n",
    "y_pred = knn_model.predict(scaler.transform(X_test))"
   ]
  },
  {
   "cell_type": "code",
   "execution_count": 31,
   "id": "284ef0a0",
   "metadata": {},
   "outputs": [
    {
     "name": "stdout",
     "output_type": "stream",
     "text": [
      "              precision    recall  f1-score   support\n",
      "\n",
      "           0       1.00      1.00      1.00      1639\n",
      "           1       1.00      0.99      0.99        92\n",
      "           2       0.97      0.97      0.97       153\n",
      "           3       0.97      0.97      0.97       142\n",
      "\n",
      "    accuracy                           1.00      2026\n",
      "   macro avg       0.98      0.98      0.98      2026\n",
      "weighted avg       1.00      1.00      1.00      2026\n",
      "\n"
     ]
    }
   ],
   "source": [
    "# Metrics Performance\n",
    "print(classification_report(y_test,y_pred))"
   ]
  },
  {
   "cell_type": "code",
   "execution_count": 32,
   "id": "66568480",
   "metadata": {},
   "outputs": [
    {
     "name": "stdout",
     "output_type": "stream",
     "text": [
      "[[1639    0    0    0]\n",
      " [   0   91    1    0]\n",
      " [   0    0  149    4]\n",
      " [   0    0    4  138]]\n"
     ]
    }
   ],
   "source": [
    "# Metrics Performance\n",
    "print(confusion_matrix(y_test,y_pred))"
   ]
  },
  {
   "cell_type": "markdown",
   "id": "f5d7b39f",
   "metadata": {},
   "source": [
    "# Logistic regression"
   ]
  },
  {
   "cell_type": "code",
   "execution_count": 42,
   "id": "1004c71b",
   "metadata": {},
   "outputs": [],
   "source": [
    "# Logistic regression\n",
    "log_model = LogisticRegression(solver='lbfgs', max_iter=1000000)\n",
    "log_model.fit(X_train, y_train)\n",
    "y_pred = log_model.predict(X_test)"
   ]
  },
  {
   "cell_type": "code",
   "execution_count": 43,
   "id": "9eee435d",
   "metadata": {},
   "outputs": [
    {
     "name": "stdout",
     "output_type": "stream",
     "text": [
      "              precision    recall  f1-score   support\n",
      "\n",
      "           0       1.00      1.00      1.00      1692\n",
      "           1       0.98      0.96      0.97        67\n",
      "           2       0.96      0.93      0.94       143\n",
      "           3       0.92      0.96      0.94       124\n",
      "\n",
      "    accuracy                           0.99      2026\n",
      "   macro avg       0.97      0.96      0.96      2026\n",
      "weighted avg       0.99      0.99      0.99      2026\n",
      "\n"
     ]
    }
   ],
   "source": [
    "# Metrics Performance\n",
    "print(classification_report(y_test,y_pred))"
   ]
  },
  {
   "cell_type": "code",
   "execution_count": 44,
   "id": "66d3577d",
   "metadata": {},
   "outputs": [
    {
     "name": "stdout",
     "output_type": "stream",
     "text": [
      "[[1691    0    0    1]\n",
      " [   0   64    3    0]\n",
      " [   0    1  133    9]\n",
      " [   2    0    3  119]]\n"
     ]
    }
   ],
   "source": [
    "# Metrics Performance\n",
    "print(confusion_matrix(y_test,y_pred))"
   ]
  },
  {
   "cell_type": "markdown",
   "id": "1eb4bdc8",
   "metadata": {},
   "source": [
    "# Naive Bias"
   ]
  },
  {
   "cell_type": "code",
   "execution_count": 45,
   "id": "cca9e07d",
   "metadata": {},
   "outputs": [],
   "source": [
    "# Naive Bias\n",
    "nb_model = GaussianNB()\n",
    "y_pred = nb_model.fit(X_train, y_train).predict(X_test)"
   ]
  },
  {
   "cell_type": "code",
   "execution_count": 46,
   "id": "0507e9c2",
   "metadata": {},
   "outputs": [
    {
     "name": "stdout",
     "output_type": "stream",
     "text": [
      "              precision    recall  f1-score   support\n",
      "\n",
      "           0       1.00      0.98      0.99      1692\n",
      "           1       1.00      0.88      0.94        67\n",
      "           2       0.84      0.92      0.88       143\n",
      "           3       0.68      0.82      0.74       124\n",
      "\n",
      "    accuracy                           0.96      2026\n",
      "   macro avg       0.88      0.90      0.89      2026\n",
      "weighted avg       0.97      0.96      0.96      2026\n",
      "\n"
     ]
    }
   ],
   "source": [
    "# Metrics Performance\n",
    "print(classification_report(y_test,y_pred))"
   ]
  },
  {
   "cell_type": "code",
   "execution_count": 47,
   "id": "88f7a05f",
   "metadata": {},
   "outputs": [
    {
     "name": "stdout",
     "output_type": "stream",
     "text": [
      "[[1656    0    0   36]\n",
      " [   0   59    8    0]\n",
      " [   0    0  131   12]\n",
      " [   5    0   17  102]]\n"
     ]
    }
   ],
   "source": [
    "print(confusion_matrix(y_test,y_pred))"
   ]
  },
  {
   "cell_type": "markdown",
   "id": "142a12f1",
   "metadata": {},
   "source": [
    "# Decision Tree"
   ]
  },
  {
   "cell_type": "code",
   "execution_count": 68,
   "id": "1373045c",
   "metadata": {},
   "outputs": [],
   "source": [
    "# Decision Tree\n",
    "dt_model = DecisionTreeClassifier(random_state=0)\n",
    "y_pred = dt_model.fit(X_train, y_train).predict(X_test)"
   ]
  },
  {
   "cell_type": "code",
   "execution_count": 69,
   "id": "961844f6",
   "metadata": {},
   "outputs": [
    {
     "data": {
      "text/html": [
       "<style>#sk-container-id-2 {color: black;}#sk-container-id-2 pre{padding: 0;}#sk-container-id-2 div.sk-toggleable {background-color: white;}#sk-container-id-2 label.sk-toggleable__label {cursor: pointer;display: block;width: 100%;margin-bottom: 0;padding: 0.3em;box-sizing: border-box;text-align: center;}#sk-container-id-2 label.sk-toggleable__label-arrow:before {content: \"▸\";float: left;margin-right: 0.25em;color: #696969;}#sk-container-id-2 label.sk-toggleable__label-arrow:hover:before {color: black;}#sk-container-id-2 div.sk-estimator:hover label.sk-toggleable__label-arrow:before {color: black;}#sk-container-id-2 div.sk-toggleable__content {max-height: 0;max-width: 0;overflow: hidden;text-align: left;background-color: #f0f8ff;}#sk-container-id-2 div.sk-toggleable__content pre {margin: 0.2em;color: black;border-radius: 0.25em;background-color: #f0f8ff;}#sk-container-id-2 input.sk-toggleable__control:checked~div.sk-toggleable__content {max-height: 200px;max-width: 100%;overflow: auto;}#sk-container-id-2 input.sk-toggleable__control:checked~label.sk-toggleable__label-arrow:before {content: \"▾\";}#sk-container-id-2 div.sk-estimator input.sk-toggleable__control:checked~label.sk-toggleable__label {background-color: #d4ebff;}#sk-container-id-2 div.sk-label input.sk-toggleable__control:checked~label.sk-toggleable__label {background-color: #d4ebff;}#sk-container-id-2 input.sk-hidden--visually {border: 0;clip: rect(1px 1px 1px 1px);clip: rect(1px, 1px, 1px, 1px);height: 1px;margin: -1px;overflow: hidden;padding: 0;position: absolute;width: 1px;}#sk-container-id-2 div.sk-estimator {font-family: monospace;background-color: #f0f8ff;border: 1px dotted black;border-radius: 0.25em;box-sizing: border-box;margin-bottom: 0.5em;}#sk-container-id-2 div.sk-estimator:hover {background-color: #d4ebff;}#sk-container-id-2 div.sk-parallel-item::after {content: \"\";width: 100%;border-bottom: 1px solid gray;flex-grow: 1;}#sk-container-id-2 div.sk-label:hover label.sk-toggleable__label {background-color: #d4ebff;}#sk-container-id-2 div.sk-serial::before {content: \"\";position: absolute;border-left: 1px solid gray;box-sizing: border-box;top: 0;bottom: 0;left: 50%;z-index: 0;}#sk-container-id-2 div.sk-serial {display: flex;flex-direction: column;align-items: center;background-color: white;padding-right: 0.2em;padding-left: 0.2em;position: relative;}#sk-container-id-2 div.sk-item {position: relative;z-index: 1;}#sk-container-id-2 div.sk-parallel {display: flex;align-items: stretch;justify-content: center;background-color: white;position: relative;}#sk-container-id-2 div.sk-item::before, #sk-container-id-2 div.sk-parallel-item::before {content: \"\";position: absolute;border-left: 1px solid gray;box-sizing: border-box;top: 0;bottom: 0;left: 50%;z-index: -1;}#sk-container-id-2 div.sk-parallel-item {display: flex;flex-direction: column;z-index: 1;position: relative;background-color: white;}#sk-container-id-2 div.sk-parallel-item:first-child::after {align-self: flex-end;width: 50%;}#sk-container-id-2 div.sk-parallel-item:last-child::after {align-self: flex-start;width: 50%;}#sk-container-id-2 div.sk-parallel-item:only-child::after {width: 0;}#sk-container-id-2 div.sk-dashed-wrapped {border: 1px dashed gray;margin: 0 0.4em 0.5em 0.4em;box-sizing: border-box;padding-bottom: 0.4em;background-color: white;}#sk-container-id-2 div.sk-label label {font-family: monospace;font-weight: bold;display: inline-block;line-height: 1.2em;}#sk-container-id-2 div.sk-label-container {text-align: center;}#sk-container-id-2 div.sk-container {/* jupyter's `normalize.less` sets `[hidden] { display: none; }` but bootstrap.min.css set `[hidden] { display: none !important; }` so we also need the `!important` here to be able to override the default hidden behavior on the sphinx rendered scikit-learn.org. See: https://github.com/scikit-learn/scikit-learn/issues/21755 */display: inline-block !important;position: relative;}#sk-container-id-2 div.sk-text-repr-fallback {display: none;}</style><div id=\"sk-container-id-2\" class=\"sk-top-container\"><div class=\"sk-text-repr-fallback\"><pre>DecisionTreeClassifier()</pre><b>In a Jupyter environment, please rerun this cell to show the HTML representation or trust the notebook. <br />On GitHub, the HTML representation is unable to render, please try loading this page with nbviewer.org.</b></div><div class=\"sk-container\" hidden><div class=\"sk-item\"><div class=\"sk-estimator sk-toggleable\"><input class=\"sk-toggleable__control sk-hidden--visually\" id=\"sk-estimator-id-2\" type=\"checkbox\" checked><label for=\"sk-estimator-id-2\" class=\"sk-toggleable__label sk-toggleable__label-arrow\">DecisionTreeClassifier</label><div class=\"sk-toggleable__content\"><pre>DecisionTreeClassifier()</pre></div></div></div></div></div>"
      ],
      "text/plain": [
       "DecisionTreeClassifier()"
      ]
     },
     "execution_count": 69,
     "metadata": {},
     "output_type": "execute_result"
    }
   ],
   "source": [
    "# Decision Tree\n",
    "DecisionTreeClassifier()"
   ]
  },
  {
   "cell_type": "code",
   "execution_count": 70,
   "id": "a53af848",
   "metadata": {
    "scrolled": true
   },
   "outputs": [
    {
     "name": "stdout",
     "output_type": "stream",
     "text": [
      "              precision    recall  f1-score   support\n",
      "\n",
      "           0       1.00      1.00      1.00      1692\n",
      "           1       1.00      0.96      0.98        67\n",
      "           2       0.97      0.98      0.97       143\n",
      "           3       0.98      0.97      0.97       124\n",
      "\n",
      "    accuracy                           1.00      2026\n",
      "   macro avg       0.98      0.98      0.98      2026\n",
      "weighted avg       1.00      1.00      1.00      2026\n",
      "\n"
     ]
    }
   ],
   "source": [
    "# Metrics Performance\n",
    "print(classification_report(y_test,y_pred))"
   ]
  },
  {
   "cell_type": "code",
   "execution_count": 71,
   "id": "e0307a68",
   "metadata": {},
   "outputs": [
    {
     "name": "stdout",
     "output_type": "stream",
     "text": [
      "[[1692    0    0    0]\n",
      " [   0   64    3    0]\n",
      " [   0    0  140    3]\n",
      " [   2    0    2  120]]\n"
     ]
    }
   ],
   "source": [
    "print(confusion_matrix(y_test,y_pred))"
   ]
  },
  {
   "cell_type": "markdown",
   "id": "7b50b978",
   "metadata": {},
   "source": [
    "# Saving the model"
   ]
  },
  {
   "cell_type": "markdown",
   "id": "0a143e2f",
   "metadata": {},
   "source": [
    "### Pickle"
   ]
  },
  {
   "cell_type": "code",
   "execution_count": 52,
   "id": "6d3d3b8d",
   "metadata": {},
   "outputs": [],
   "source": [
    "#save model\n",
    "filename = 'finalized_model.sav'\n",
    "pickle.dump(dt_model, open(filename, 'wb'))"
   ]
  },
  {
   "cell_type": "code",
   "execution_count": 53,
   "id": "e268c22f",
   "metadata": {},
   "outputs": [
    {
     "name": "stdout",
     "output_type": "stream",
     "text": [
      "0.9950641658440277\n",
      "              precision    recall  f1-score   support\n",
      "\n",
      "           0       1.00      1.00      1.00      1692\n",
      "           1       1.00      0.96      0.98        67\n",
      "           2       0.97      0.98      0.97       143\n",
      "           3       0.98      0.97      0.97       124\n",
      "\n",
      "    accuracy                           1.00      2026\n",
      "   macro avg       0.98      0.98      0.98      2026\n",
      "weighted avg       1.00      1.00      1.00      2026\n",
      "\n",
      "[[1692    0    0    0]\n",
      " [   0   64    3    0]\n",
      " [   0    0  140    3]\n",
      " [   2    0    2  120]]\n"
     ]
    }
   ],
   "source": [
    "# load the model from disk\n",
    "loaded_model = pickle.load(open('finalized_model.sav', 'rb'))\n",
    "result = loaded_model.score(X_test, y_test)\n",
    "print(result)\n",
    "y_pred = loaded_model.predict(X_test)\n",
    "print(classification_report(y_test,y_pred))\n",
    "print(confusion_matrix(y_test,y_pred))"
   ]
  },
  {
   "cell_type": "markdown",
   "id": "6e5102f9",
   "metadata": {},
   "source": [
    "### Joblib"
   ]
  },
  {
   "cell_type": "code",
   "execution_count": 54,
   "id": "7832f9ec",
   "metadata": {},
   "outputs": [
    {
     "data": {
      "text/plain": [
       "['finalized_model_joblib.sav']"
      ]
     },
     "execution_count": 54,
     "metadata": {},
     "output_type": "execute_result"
    }
   ],
   "source": [
    "# save the model to disk\n",
    "joblib.dump(dt_model,'finalized_model_joblib.sav')"
   ]
  },
  {
   "cell_type": "code",
   "execution_count": 55,
   "id": "e15fd142",
   "metadata": {},
   "outputs": [
    {
     "name": "stdout",
     "output_type": "stream",
     "text": [
      "0.9950641658440277\n",
      "              precision    recall  f1-score   support\n",
      "\n",
      "           0       1.00      1.00      1.00      1692\n",
      "           1       1.00      0.96      0.98        67\n",
      "           2       0.97      0.98      0.97       143\n",
      "           3       0.98      0.97      0.97       124\n",
      "\n",
      "    accuracy                           1.00      2026\n",
      "   macro avg       0.98      0.98      0.98      2026\n",
      "weighted avg       1.00      1.00      1.00      2026\n",
      "\n",
      "[[1692    0    0    0]\n",
      " [   0   64    3    0]\n",
      " [   0    0  140    3]\n",
      " [   2    0    2  120]]\n"
     ]
    }
   ],
   "source": [
    "#load the model\n",
    "loaded_model2 = joblib.load(\"finalized_model_joblib.sav\")\n",
    "result = loaded_model2.score(X_test, y_test)\n",
    "print(result)\n",
    "y_pred = loaded_model2.predict(X_test)\n",
    "print(classification_report(y_test,y_pred))\n",
    "print(confusion_matrix(y_test,y_pred))"
   ]
  },
  {
   "cell_type": "markdown",
   "id": "246b6cfc",
   "metadata": {},
   "source": [
    "# Finding the variable with more importance"
   ]
  },
  {
   "cell_type": "code",
   "execution_count": 74,
   "id": "9bef1a00",
   "metadata": {},
   "outputs": [],
   "source": [
    "feature_importance = pd.DataFrame([X_train.columns, dt_model.feature_importances_])\n",
    "feature_importance = feature_importance.T.sort_values(by = 1, ascending=False)[0:5]"
   ]
  },
  {
   "cell_type": "code",
   "execution_count": 75,
   "id": "4d29f503",
   "metadata": {
    "scrolled": true
   },
   "outputs": [
    {
     "data": {
      "image/png": "[encoded data removed]",
      "text/plain": [
       "<Figure size 640x480 with 1 Axes>"
      ]
     },
     "metadata": {},
     "output_type": "display_data"
    }
   ],
   "source": [
    "sns.barplot(x=feature_importance[1], y=feature_importance[0])\n",
    "# Add labels to the graph\n",
    "plt.xlabel('Feature Importance Score')\n",
    "plt.ylabel('Features')\n",
    "plt.title(\"Visualizing Important Features\")\n",
    "#plt.legend()\n",
    "plt.show()"
   ]
  },
  {
   "cell_type": "markdown",
   "id": "eeaad160",
   "metadata": {},
   "source": [
    "# Random Tree"
   ]
  },
  {
   "cell_type": "code",
   "execution_count": 61,
   "id": "3e990574",
   "metadata": {},
   "outputs": [],
   "source": [
    "# Random Tree\n",
    "rf_model = RandomForestClassifier(random_state=1)\n",
    "y_pred = rf_model.fit(X_train, y_train).predict(X_test)"
   ]
  },
  {
   "cell_type": "code",
   "execution_count": 62,
   "id": "b96f643b",
   "metadata": {},
   "outputs": [
    {
     "data": {
      "text/plain": [
       "{'bootstrap': True,\n",
       " 'ccp_alpha': 0.0,\n",
       " 'class_weight': None,\n",
       " 'criterion': 'gini',\n",
       " 'max_depth': None,\n",
       " 'max_features': 'sqrt',\n",
       " 'max_leaf_nodes': None,\n",
       " 'max_samples': None,\n",
       " 'min_impurity_decrease': 0.0,\n",
       " 'min_samples_leaf': 1,\n",
       " 'min_samples_split': 2,\n",
       " 'min_weight_fraction_leaf': 0.0,\n",
       " 'n_estimators': 100,\n",
       " 'n_jobs': None,\n",
       " 'oob_score': False,\n",
       " 'random_state': 1,\n",
       " 'verbose': 0,\n",
       " 'warm_start': False}"
      ]
     },
     "execution_count": 62,
     "metadata": {},
     "output_type": "execute_result"
    }
   ],
   "source": [
    "rf_model.get_params()"
   ]
  },
  {
   "cell_type": "code",
   "execution_count": 63,
   "id": "eb6b7322",
   "metadata": {},
   "outputs": [
    {
     "name": "stdout",
     "output_type": "stream",
     "text": [
      "              precision    recall  f1-score   support\n",
      "\n",
      "           0       1.00      1.00      1.00      1692\n",
      "           1       0.98      0.96      0.97        67\n",
      "           2       0.97      0.99      0.98       143\n",
      "           3       0.99      0.98      0.98       124\n",
      "\n",
      "    accuracy                           1.00      2026\n",
      "   macro avg       0.99      0.98      0.98      2026\n",
      "weighted avg       1.00      1.00      1.00      2026\n",
      "\n"
     ]
    }
   ],
   "source": [
    "# Metrics Performance\n",
    "print(classification_report(y_test,y_pred))"
   ]
  },
  {
   "cell_type": "code",
   "execution_count": 64,
   "id": "c9261c59",
   "metadata": {},
   "outputs": [
    {
     "name": "stdout",
     "output_type": "stream",
     "text": [
      "[[1692    0    0    0]\n",
      " [   0   64    3    0]\n",
      " [   0    1  141    1]\n",
      " [   2    0    1  121]]\n"
     ]
    }
   ],
   "source": [
    "print(confusion_matrix(y_test,y_pred))"
   ]
  },
  {
   "cell_type": "markdown",
   "id": "cc913ff6",
   "metadata": {},
   "source": [
    "# Finding the variable with more importance"
   ]
  },
  {
   "cell_type": "code",
   "execution_count": 65,
   "id": "b69e58a7",
   "metadata": {},
   "outputs": [],
   "source": [
    "# Finding the variable with more importance\n",
    "feature_importance = pd.DataFrame([X_train.columns, rf_model.feature_importances_])\n",
    "feature_importance = feature_importance.T.sort_values(by = 1, ascending=False)[0:10]"
   ]
  },
  {
   "cell_type": "code",
   "execution_count": 67,
   "id": "8d6d7f41",
   "metadata": {},
   "outputs": [
    {
     "data": {
      "image/png": "[encoded data removed]",
      "text/plain": [
       "<Figure size 640x480 with 1 Axes>"
      ]
     },
     "metadata": {},
     "output_type": "display_data"
    }
   ],
   "source": [
    "sns.barplot(x=feature_importance[1], y=feature_importance[0])\n",
    "# Add labels to the graph\n",
    "plt.xlabel('Feature Importance Score')\n",
    "plt.ylabel('Features')\n",
    "plt.title(\"Visualizing Important Features\")\n",
    "#plt.legend()\n",
    "plt.show()"
   ]
  },
  {
   "cell_type": "markdown",
   "id": "201e7851",
   "metadata": {},
   "source": [
    "# AdaBoostClassifier"
   ]
  },
  {
   "cell_type": "code",
   "execution_count": 76,
   "id": "664ef9b5",
   "metadata": {},
   "outputs": [
    {
     "data": {
      "text/html": [
       "<style>#sk-container-id-3 {color: black;}#sk-container-id-3 pre{padding: 0;}#sk-container-id-3 div.sk-toggleable {background-color: white;}#sk-container-id-3 label.sk-toggleable__label {cursor: pointer;display: block;width: 100%;margin-bottom: 0;padding: 0.3em;box-sizing: border-box;text-align: center;}#sk-container-id-3 label.sk-toggleable__label-arrow:before {content: \"▸\";float: left;margin-right: 0.25em;color: #696969;}#sk-container-id-3 label.sk-toggleable__label-arrow:hover:before {color: black;}#sk-container-id-3 div.sk-estimator:hover label.sk-toggleable__label-arrow:before {color: black;}#sk-container-id-3 div.sk-toggleable__content {max-height: 0;max-width: 0;overflow: hidden;text-align: left;background-color: #f0f8ff;}#sk-container-id-3 div.sk-toggleable__content pre {margin: 0.2em;color: black;border-radius: 0.25em;background-color: #f0f8ff;}#sk-container-id-3 input.sk-toggleable__control:checked~div.sk-toggleable__content {max-height: 200px;max-width: 100%;overflow: auto;}#sk-container-id-3 input.sk-toggleable__control:checked~label.sk-toggleable__label-arrow:before {content: \"▾\";}#sk-container-id-3 div.sk-estimator input.sk-toggleable__control:checked~label.sk-toggleable__label {background-color: #d4ebff;}#sk-container-id-3 div.sk-label input.sk-toggleable__control:checked~label.sk-toggleable__label {background-color: #d4ebff;}#sk-container-id-3 input.sk-hidden--visually {border: 0;clip: rect(1px 1px 1px 1px);clip: rect(1px, 1px, 1px, 1px);height: 1px;margin: -1px;overflow: hidden;padding: 0;position: absolute;width: 1px;}#sk-container-id-3 div.sk-estimator {font-family: monospace;background-color: #f0f8ff;border: 1px dotted black;border-radius: 0.25em;box-sizing: border-box;margin-bottom: 0.5em;}#sk-container-id-3 div.sk-estimator:hover {background-color: #d4ebff;}#sk-container-id-3 div.sk-parallel-item::after {content: \"\";width: 100%;border-bottom: 1px solid gray;flex-grow: 1;}#sk-container-id-3 div.sk-label:hover label.sk-toggleable__label {background-color: #d4ebff;}#sk-container-id-3 div.sk-serial::before {content: \"\";position: absolute;border-left: 1px solid gray;box-sizing: border-box;top: 0;bottom: 0;left: 50%;z-index: 0;}#sk-container-id-3 div.sk-serial {display: flex;flex-direction: column;align-items: center;background-color: white;padding-right: 0.2em;padding-left: 0.2em;position: relative;}#sk-container-id-3 div.sk-item {position: relative;z-index: 1;}#sk-container-id-3 div.sk-parallel {display: flex;align-items: stretch;justify-content: center;background-color: white;position: relative;}#sk-container-id-3 div.sk-item::before, #sk-container-id-3 div.sk-parallel-item::before {content: \"\";position: absolute;border-left: 1px solid gray;box-sizing: border-box;top: 0;bottom: 0;left: 50%;z-index: -1;}#sk-container-id-3 div.sk-parallel-item {display: flex;flex-direction: column;z-index: 1;position: relative;background-color: white;}#sk-container-id-3 div.sk-parallel-item:first-child::after {align-self: flex-end;width: 50%;}#sk-container-id-3 div.sk-parallel-item:last-child::after {align-self: flex-start;width: 50%;}#sk-container-id-3 div.sk-parallel-item:only-child::after {width: 0;}#sk-container-id-3 div.sk-dashed-wrapped {border: 1px dashed gray;margin: 0 0.4em 0.5em 0.4em;box-sizing: border-box;padding-bottom: 0.4em;background-color: white;}#sk-container-id-3 div.sk-label label {font-family: monospace;font-weight: bold;display: inline-block;line-height: 1.2em;}#sk-container-id-3 div.sk-label-container {text-align: center;}#sk-container-id-3 div.sk-container {/* jupyter's `normalize.less` sets `[hidden] { display: none; }` but bootstrap.min.css set `[hidden] { display: none !important; }` so we also need the `!important` here to be able to override the default hidden behavior on the sphinx rendered scikit-learn.org. See: https://github.com/scikit-learn/scikit-learn/issues/21755 */display: inline-block !important;position: relative;}#sk-container-id-3 div.sk-text-repr-fallback {display: none;}</style><div id=\"sk-container-id-3\" class=\"sk-top-container\"><div class=\"sk-text-repr-fallback\"><pre>AdaBoostClassifier(random_state=0)</pre><b>In a Jupyter environment, please rerun this cell to show the HTML representation or trust the notebook. <br />On GitHub, the HTML representation is unable to render, please try loading this page with nbviewer.org.</b></div><div class=\"sk-container\" hidden><div class=\"sk-item\"><div class=\"sk-estimator sk-toggleable\"><input class=\"sk-toggleable__control sk-hidden--visually\" id=\"sk-estimator-id-3\" type=\"checkbox\" checked><label for=\"sk-estimator-id-3\" class=\"sk-toggleable__label sk-toggleable__label-arrow\">AdaBoostClassifier</label><div class=\"sk-toggleable__content\"><pre>AdaBoostClassifier(random_state=0)</pre></div></div></div></div></div>"
      ],
      "text/plain": [
       "AdaBoostClassifier(random_state=0)"
      ]
     },
     "execution_count": 76,
     "metadata": {},
     "output_type": "execute_result"
    }
   ],
   "source": [
    "#AdaBoostClassifier\n",
    "ada_model = AdaBoostClassifier(random_state=0)\n",
    "ada_model.fit(X_train,y_train)"
   ]
  },
  {
   "cell_type": "code",
   "execution_count": 77,
   "id": "0eebe068",
   "metadata": {},
   "outputs": [],
   "source": [
    "y_pred = ada_model.predict(X_test)"
   ]
  },
  {
   "cell_type": "code",
   "execution_count": 78,
   "id": "86852b73",
   "metadata": {},
   "outputs": [
    {
     "name": "stdout",
     "output_type": "stream",
     "text": [
      "              precision    recall  f1-score   support\n",
      "\n",
      "           0       0.98      0.95      0.96      1692\n",
      "           1       1.00      0.90      0.94        67\n",
      "           2       0.61      1.00      0.76       143\n",
      "           3       0.01      0.01      0.01       124\n",
      "\n",
      "    accuracy                           0.89      2026\n",
      "   macro avg       0.65      0.71      0.67      2026\n",
      "weighted avg       0.89      0.89      0.89      2026\n",
      "\n"
     ]
    }
   ],
   "source": [
    "# Metrics Performance\n",
    "print(classification_report(y_test,y_pred))"
   ]
  },
  {
   "cell_type": "markdown",
   "id": "13712e2f",
   "metadata": {},
   "source": [
    "# xg Boost"
   ]
  },
  {
   "cell_type": "code",
   "execution_count": 79,
   "id": "585f46b4",
   "metadata": {},
   "outputs": [
    {
     "data": {
      "text/plain": [
       "(8103, 16)"
      ]
     },
     "execution_count": 79,
     "metadata": {},
     "output_type": "execute_result"
    }
   ],
   "source": [
    "X_train.shape"
   ]
  },
  {
   "cell_type": "code",
   "execution_count": 80,
   "id": "adac3be7",
   "metadata": {},
   "outputs": [
    {
     "data": {
      "text/html": [
       "<style>#sk-container-id-4 {color: black;}#sk-container-id-4 pre{padding: 0;}#sk-container-id-4 div.sk-toggleable {background-color: white;}#sk-container-id-4 label.sk-toggleable__label {cursor: pointer;display: block;width: 100%;margin-bottom: 0;padding: 0.3em;box-sizing: border-box;text-align: center;}#sk-container-id-4 label.sk-toggleable__label-arrow:before {content: \"▸\";float: left;margin-right: 0.25em;color: #696969;}#sk-container-id-4 label.sk-toggleable__label-arrow:hover:before {color: black;}#sk-container-id-4 div.sk-estimator:hover label.sk-toggleable__label-arrow:before {color: black;}#sk-container-id-4 div.sk-toggleable__content {max-height: 0;max-width: 0;overflow: hidden;text-align: left;background-color: #f0f8ff;}#sk-container-id-4 div.sk-toggleable__content pre {margin: 0.2em;color: black;border-radius: 0.25em;background-color: #f0f8ff;}#sk-container-id-4 input.sk-toggleable__control:checked~div.sk-toggleable__content {max-height: 200px;max-width: 100%;overflow: auto;}#sk-container-id-4 input.sk-toggleable__control:checked~label.sk-toggleable__label-arrow:before {content: \"▾\";}#sk-container-id-4 div.sk-estimator input.sk-toggleable__control:checked~label.sk-toggleable__label {background-color: #d4ebff;}#sk-container-id-4 div.sk-label input.sk-toggleable__control:checked~label.sk-toggleable__label {background-color: #d4ebff;}#sk-container-id-4 input.sk-hidden--visually {border: 0;clip: rect(1px 1px 1px 1px);clip: rect(1px, 1px, 1px, 1px);height: 1px;margin: -1px;overflow: hidden;padding: 0;position: absolute;width: 1px;}#sk-container-id-4 div.sk-estimator {font-family: monospace;background-color: #f0f8ff;border: 1px dotted black;border-radius: 0.25em;box-sizing: border-box;margin-bottom: 0.5em;}#sk-container-id-4 div.sk-estimator:hover {background-color: #d4ebff;}#sk-container-id-4 div.sk-parallel-item::after {content: \"\";width: 100%;border-bottom: 1px solid gray;flex-grow: 1;}#sk-container-id-4 div.sk-label:hover label.sk-toggleable__label {background-color: #d4ebff;}#sk-container-id-4 div.sk-serial::before {content: \"\";position: absolute;border-left: 1px solid gray;box-sizing: border-box;top: 0;bottom: 0;left: 50%;z-index: 0;}#sk-container-id-4 div.sk-serial {display: flex;flex-direction: column;align-items: center;background-color: white;padding-right: 0.2em;padding-left: 0.2em;position: relative;}#sk-container-id-4 div.sk-item {position: relative;z-index: 1;}#sk-container-id-4 div.sk-parallel {display: flex;align-items: stretch;justify-content: center;background-color: white;position: relative;}#sk-container-id-4 div.sk-item::before, #sk-container-id-4 div.sk-parallel-item::before {content: \"\";position: absolute;border-left: 1px solid gray;box-sizing: border-box;top: 0;bottom: 0;left: 50%;z-index: -1;}#sk-container-id-4 div.sk-parallel-item {display: flex;flex-direction: column;z-index: 1;position: relative;background-color: white;}#sk-container-id-4 div.sk-parallel-item:first-child::after {align-self: flex-end;width: 50%;}#sk-container-id-4 div.sk-parallel-item:last-child::after {align-self: flex-start;width: 50%;}#sk-container-id-4 div.sk-parallel-item:only-child::after {width: 0;}#sk-container-id-4 div.sk-dashed-wrapped {border: 1px dashed gray;margin: 0 0.4em 0.5em 0.4em;box-sizing: border-box;padding-bottom: 0.4em;background-color: white;}#sk-container-id-4 div.sk-label label {font-family: monospace;font-weight: bold;display: inline-block;line-height: 1.2em;}#sk-container-id-4 div.sk-label-container {text-align: center;}#sk-container-id-4 div.sk-container {/* jupyter's `normalize.less` sets `[hidden] { display: none; }` but bootstrap.min.css set `[hidden] { display: none !important; }` so we also need the `!important` here to be able to override the default hidden behavior on the sphinx rendered scikit-learn.org. See: https://github.com/scikit-learn/scikit-learn/issues/21755 */display: inline-block !important;position: relative;}#sk-container-id-4 div.sk-text-repr-fallback {display: none;}</style><div id=\"sk-container-id-4\" class=\"sk-top-container\"><div class=\"sk-text-repr-fallback\"><pre>XGBClassifier(base_score=None, booster=None, callbacks=None,\n",
       "              colsample_bylevel=None, colsample_bynode=None,\n",
       "              colsample_bytree=None, early_stopping_rounds=None,\n",
       "              enable_categorical=False, eval_metric=None, feature_types=None,\n",
       "              gamma=None, gpu_id=None, grow_policy=None, importance_type=None,\n",
       "              interaction_constraints=None, learning_rate=None, max_bin=None,\n",
       "              max_cat_threshold=None, max_cat_to_onehot=None,\n",
       "              max_delta_step=None, max_depth=None, max_leaves=None,\n",
       "              min_child_weight=None, missing=nan, monotone_constraints=None,\n",
       "              n_estimators=100, n_jobs=None, num_parallel_tree=None,\n",
       "              objective=&#x27;multi:softprob&#x27;, predictor=None, ...)</pre><b>In a Jupyter environment, please rerun this cell to show the HTML representation or trust the notebook. <br />On GitHub, the HTML representation is unable to render, please try loading this page with nbviewer.org.</b></div><div class=\"sk-container\" hidden><div class=\"sk-item\"><div class=\"sk-estimator sk-toggleable\"><input class=\"sk-toggleable__control sk-hidden--visually\" id=\"sk-estimator-id-4\" type=\"checkbox\" checked><label for=\"sk-estimator-id-4\" class=\"sk-toggleable__label sk-toggleable__label-arrow\">XGBClassifier</label><div class=\"sk-toggleable__content\"><pre>XGBClassifier(base_score=None, booster=None, callbacks=None,\n",
       "              colsample_bylevel=None, colsample_bynode=None,\n",
       "              colsample_bytree=None, early_stopping_rounds=None,\n",
       "              enable_categorical=False, eval_metric=None, feature_types=None,\n",
       "              gamma=None, gpu_id=None, grow_policy=None, importance_type=None,\n",
       "              interaction_constraints=None, learning_rate=None, max_bin=None,\n",
       "              max_cat_threshold=None, max_cat_to_onehot=None,\n",
       "              max_delta_step=None, max_depth=None, max_leaves=None,\n",
       "              min_child_weight=None, missing=nan, monotone_constraints=None,\n",
       "              n_estimators=100, n_jobs=None, num_parallel_tree=None,\n",
       "              objective=&#x27;multi:softprob&#x27;, predictor=None, ...)</pre></div></div></div></div></div>"
      ],
      "text/plain": [
       "XGBClassifier(base_score=None, booster=None, callbacks=None,\n",
       "              colsample_bylevel=None, colsample_bynode=None,\n",
       "              colsample_bytree=None, early_stopping_rounds=None,\n",
       "              enable_categorical=False, eval_metric=None, feature_types=None,\n",
       "              gamma=None, gpu_id=None, grow_policy=None, importance_type=None,\n",
       "              interaction_constraints=None, learning_rate=None, max_bin=None,\n",
       "              max_cat_threshold=None, max_cat_to_onehot=None,\n",
       "              max_delta_step=None, max_depth=None, max_leaves=None,\n",
       "              min_child_weight=None, missing=nan, monotone_constraints=None,\n",
       "              n_estimators=100, n_jobs=None, num_parallel_tree=None,\n",
       "              objective='multi:softprob', predictor=None, ...)"
      ]
     },
     "execution_count": 80,
     "metadata": {},
     "output_type": "execute_result"
    }
   ],
   "source": [
    "#xg Boost model\n",
    "xg_model = XGBClassifier(random_state=1)\n",
    "xg_model.fit(X_train, y_train)"
   ]
  },
  {
   "cell_type": "code",
   "execution_count": 81,
   "id": "9fa1fbe8",
   "metadata": {},
   "outputs": [],
   "source": [
    "y_pred = xg_model.predict(X_test)"
   ]
  },
  {
   "cell_type": "code",
   "execution_count": 82,
   "id": "a1ee84e7",
   "metadata": {},
   "outputs": [
    {
     "data": {
      "text/plain": [
       "0.9838526876873196"
      ]
     },
     "execution_count": 82,
     "metadata": {},
     "output_type": "execute_result"
    }
   ],
   "source": [
    "from sklearn import metrics\n",
    "metrics.f1_score(y_test,y_pred,average=\"macro\")"
   ]
  },
  {
   "cell_type": "code",
   "execution_count": 83,
   "id": "1860c089",
   "metadata": {},
   "outputs": [
    {
     "name": "stdout",
     "output_type": "stream",
     "text": [
      "              precision    recall  f1-score   support\n",
      "\n",
      "           0       1.00      1.00      1.00      1692\n",
      "           1       1.00      0.96      0.98        67\n",
      "           2       0.97      0.99      0.98       143\n",
      "           3       0.99      0.97      0.98       124\n",
      "\n",
      "    accuracy                           1.00      2026\n",
      "   macro avg       0.99      0.98      0.98      2026\n",
      "weighted avg       1.00      1.00      1.00      2026\n",
      "\n"
     ]
    }
   ],
   "source": [
    "# Metrics Performance\n",
    "print(classification_report(y_test,y_pred))"
   ]
  },
  {
   "cell_type": "code",
   "execution_count": 84,
   "id": "352eb0a5",
   "metadata": {},
   "outputs": [],
   "source": [
    "# Finding the variable with more importance\n",
    "feature_importance = pd.DataFrame([X_train.columns, xg_model.feature_importances_])\n",
    "feature_importance = feature_importance.T.sort_values(by = 1, ascending=False)[0:10]"
   ]
  },
  {
   "cell_type": "code",
   "execution_count": 86,
   "id": "22ecd239",
   "metadata": {},
   "outputs": [
    {
     "data": {
      "image/png": "[encoded data removed]",
      "text/plain": [
       "<Figure size 640x480 with 1 Axes>"
      ]
     },
     "metadata": {},
     "output_type": "display_data"
    }
   ],
   "source": [
    "import seaborn as sns\n",
    "sns.barplot(x=feature_importance[1], y=feature_importance[0])\n",
    "# Add labels to the graph\n",
    "plt.xlabel('Feature Importance Score')\n",
    "plt.ylabel('Features')\n",
    "plt.title(\"Visualizing Important Features\")\n",
    "#plt.legend()\n",
    "plt.show()"
   ]
  },
  {
   "cell_type": "markdown",
   "id": "5c0503b5",
   "metadata": {},
   "source": [
    "# With selected Feature"
   ]
  },
  {
   "cell_type": "code",
   "execution_count": 87,
   "id": "9eee2f2e",
   "metadata": {},
   "outputs": [],
   "source": [
    "X = df[['S1_Light','S2_Light', 'S3_Light','S5_CO2_Slope']]\n",
    "\n",
    "y = df['Room_Occupancy_Count']\n",
    "X_train, X_test, y_train, y_test = train_test_split(X,y, test_size=0.2)"
   ]
  },
  {
   "cell_type": "code",
   "execution_count": 88,
   "id": "61b4ae08",
   "metadata": {},
   "outputs": [],
   "source": [
    "dt_model = DecisionTreeClassifier(random_state=0)\n",
    "y_pred = dt_model.fit(X_train, y_train).predict(X_test)"
   ]
  },
  {
   "cell_type": "code",
   "execution_count": 89,
   "id": "f3fd4c18",
   "metadata": {},
   "outputs": [
    {
     "name": "stdout",
     "output_type": "stream",
     "text": [
      "              precision    recall  f1-score   support\n",
      "\n",
      "           0       1.00      1.00      1.00      1629\n",
      "           1       0.98      1.00      0.99        94\n",
      "           2       0.97      0.97      0.97       147\n",
      "           3       0.97      0.96      0.96       156\n",
      "\n",
      "    accuracy                           0.99      2026\n",
      "   macro avg       0.98      0.98      0.98      2026\n",
      "weighted avg       0.99      0.99      0.99      2026\n",
      "\n"
     ]
    }
   ],
   "source": [
    "print(classification_report(y_test,y_pred))"
   ]
  },
  {
   "cell_type": "code",
   "execution_count": 90,
   "id": "bcda3edb",
   "metadata": {},
   "outputs": [
    {
     "name": "stdout",
     "output_type": "stream",
     "text": [
      "              precision    recall  f1-score   support\n",
      "\n",
      "           0       1.00      1.00      1.00      1629\n",
      "           1       0.98      1.00      0.99        94\n",
      "           2       0.97      0.97      0.97       147\n",
      "           3       0.97      0.96      0.96       156\n",
      "\n",
      "    accuracy                           0.99      2026\n",
      "   macro avg       0.98      0.98      0.98      2026\n",
      "weighted avg       0.99      0.99      0.99      2026\n",
      "\n",
      "[[1628    1    0    0]\n",
      " [   0   94    0    0]\n",
      " [   0    1  142    4]\n",
      " [   2    0    5  149]]\n"
     ]
    }
   ],
   "source": [
    "print(classification_report(y_test,y_pred))\n",
    "print(confusion_matrix(y_test,y_pred))"
   ]
  },
  {
   "cell_type": "markdown",
   "id": "7f1aa9e5",
   "metadata": {},
   "source": [
    "### Finding importance"
   ]
  },
  {
   "cell_type": "code",
   "execution_count": 91,
   "id": "5042baf0",
   "metadata": {},
   "outputs": [],
   "source": [
    "feature_importance = pd.DataFrame([X_train.columns, dt_model.feature_importances_])\n",
    "feature_importance = feature_importance.T.sort_values(by = 1, ascending=False)[0:]"
   ]
  },
  {
   "cell_type": "code",
   "execution_count": 93,
   "id": "e64494a1",
   "metadata": {},
   "outputs": [
    {
     "data": {
      "image/png": "[encoded data removed]",
      "text/plain": [
       "<Figure size 640x480 with 1 Axes>"
      ]
     },
     "metadata": {},
     "output_type": "display_data"
    }
   ],
   "source": [
    "import seaborn as sns\n",
    "sns.barplot(x=feature_importance[1], y=feature_importance[0])\n",
    "# Add labels to the graph\n",
    "plt.xlabel('Feature Importance Score')\n",
    "plt.ylabel('Features')\n",
    "plt.title(\"Visualizing Important Features\")\n",
    "#plt.legend()\n",
    "plt.show()"
   ]
  },
  {
   "cell_type": "markdown",
   "id": "35f551ee",
   "metadata": {},
   "source": [
    "### save model"
   ]
  },
  {
   "cell_type": "code",
   "execution_count": 94,
   "id": "dd369cc3",
   "metadata": {},
   "outputs": [],
   "source": [
    "#save model\n",
    "pickle.dump(dt_model, open(\"DesicionTree_model_reducedFeatures\", 'wb'))"
   ]
  },
  {
   "cell_type": "code",
   "execution_count": 95,
   "id": "da021f29",
   "metadata": {},
   "outputs": [
    {
     "name": "stdout",
     "output_type": "stream",
     "text": [
      "0.993583415597236\n",
      "              precision    recall  f1-score   support\n",
      "\n",
      "           0       1.00      1.00      1.00      1629\n",
      "           1       0.98      1.00      0.99        94\n",
      "           2       0.97      0.97      0.97       147\n",
      "           3       0.97      0.96      0.96       156\n",
      "\n",
      "    accuracy                           0.99      2026\n",
      "   macro avg       0.98      0.98      0.98      2026\n",
      "weighted avg       0.99      0.99      0.99      2026\n",
      "\n",
      "[[1628    1    0    0]\n",
      " [   0   94    0    0]\n",
      " [   0    1  142    4]\n",
      " [   2    0    5  149]]\n"
     ]
    }
   ],
   "source": [
    "# load the model from disk\n",
    "loaded_model3 = pickle.load(open(\"DesicionTree_model_reducedFeatures\", 'rb'))\n",
    "result = loaded_model3.score(X_test, y_test)\n",
    "print(result)\n",
    "y_pred = loaded_model3.predict(X_test)\n",
    "print(classification_report(y_test,y_pred))\n",
    "print(confusion_matrix(y_test,y_pred))"
   ]
  },
  {
   "cell_type": "code",
   "execution_count": null,
   "id": "206df10f",
   "metadata": {},
   "outputs": [],
   "source": []
  }
 ],
 "metadata": {
  "kernelspec": {
   "display_name": "Python 3 (ipykernel)",
   "language": "python",
   "name": "python3"
  },
  "language_info": {
   "codemirror_mode": {
    "name": "ipython",
    "version": 3
   },
   "file_extension": ".py",
   "mimetype": "text/x-python",
   "name": "python",
   "nbconvert_exporter": "python",
   "pygments_lexer": "ipython3",
   "version": "3.9.18"
  }
 },
 "nbformat": 4,
 "nbformat_minor": 5
}
